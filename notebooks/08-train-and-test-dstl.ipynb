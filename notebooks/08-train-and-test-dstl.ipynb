{
 "cells": [
  {
   "cell_type": "markdown",
   "metadata": {},
   "source": [
    "# Train and Test a network on the dstl data set\n",
    "This notebook uses the Faster R-CNN network architecture for training a network on the dstl data set. During training some validation output is produced. \n",
    "\n",
    "The second part of the notebook deals with testing."
   ]
  },
  {
   "cell_type": "code",
   "execution_count": null,
   "metadata": {},
   "outputs": [],
   "source": [
    "import os\n",
    "import sys\n",
    "import pprint\n",
    "\n",
    "import numpy as np\n",
    "import matplotlib\n",
    "matplotlib.use('Agg')\n",
    "%matplotlib inline\n",
    "from matplotlib import pyplot as plt"
   ]
  },
  {
   "cell_type": "code",
   "execution_count": null,
   "metadata": {},
   "outputs": [],
   "source": [
    "def add_path(path):\n",
    "    if path not in sys.path:\n",
    "        sys.path.insert(0, path)\n",
    "        \n",
    "add_path('/home/ubuntu/src/py-faster-rcnn-windowed_input/caffe-fast-rcnn/python')\n",
    "add_path('/home/ubuntu/src/py-faster-rcnn-windowed_input/lib')\n",
    "import caffe\n",
    "from datasets.factory import get_imdb, list_imdbs\n",
    "from fast_rcnn.test import test_net, plot_all_bboxes\n",
    "from fast_rcnn.train import get_training_roidb, train_net\n",
    "from fast_rcnn.config import cfg, cfg_from_file, cfg_from_list, get_output_dir\n",
    "print \"Loaded caffe version {:s} from {:s}.\".format(caffe.__version__, caffe.__path__[0])"
   ]
  },
  {
   "cell_type": "code",
   "execution_count": null,
   "metadata": {},
   "outputs": [],
   "source": [
    "# configure plotting\n",
    "plt.rcParams['image.interpolation'] = 'nearest'\n",
    "plt.rcParams['image.cmap'] = 'gray'\n",
    "plt.rcParams['figure.figsize'] = (15, 15)\n",
    "\n",
    "caffe.set_mode_gpu()"
   ]
  },
  {
   "cell_type": "code",
   "execution_count": null,
   "metadata": {},
   "outputs": [],
   "source": [
    "classes = (0, 1, 4, 7, 8, 9)\n",
    "arch = 'VGG16'\n",
    "appendix = '' # This will codify which classes to train (if not all, in which case this string should be empty)\n",
    "infix = '.' # for directories\n",
    "if classes is not None:\n",
    "    appendix = '_'+''.join(['{:d}'.format(c) for c in classes])\n",
    "    infix = '{:d}'.format(len(classes))+'_classes'\n",
    "\n",
    "print infix, appendix"
   ]
  },
  {
   "cell_type": "code",
   "execution_count": null,
   "metadata": {},
   "outputs": [],
   "source": [
    "this_dir = os.getcwd()\n",
    "data_dir = os.path.join(this_dir, '..', 'data', 'voc')\n",
    "model_dir = os.path.join(this_dir, '..', 'models', arch, infix)"
   ]
  },
  {
   "cell_type": "markdown",
   "metadata": {},
   "source": [
    "## Draw network\n",
    "We load some modules required only for drawing the network and then draw the network too."
   ]
  },
  {
   "cell_type": "code",
   "execution_count": null,
   "metadata": {},
   "outputs": [],
   "source": [
    "#this block defines a function to visualize network from prototxt model\n",
    "#install pydot via: sudo apt-get install python-pydot\n",
    "from caffe import draw\n",
    "from caffe.proto import caffe_pb2\n",
    "from google.protobuf import text_format\n",
    "from IPython.display import Image\n",
    "\n",
    "import tempfile as tp\n",
    "\n",
    "def draw_network(model_file, rankdir = 'LR', draw_to_file = False):\n",
    "    net = caffe_pb2.NetParameter()\n",
    "    text_format.Merge(open(model_file).read(), net)\n",
    "    if draw_to_file:\n",
    "        tmp_file_name =  tp.mktemp(dir= os.getcwd()) + \".png\"\n",
    "        draw.draw_net_to_file(caffe_net=net, filename=tmp_file_name)\n",
    "    return draw.draw_net(caffe_net=net,rankdir=rankdir)"
   ]
  },
  {
   "cell_type": "code",
   "execution_count": null,
   "metadata": {},
   "outputs": [],
   "source": [
    "train_file = os.path.join(model_dir, 'train.prototxt')\n",
    "test_file = os.path.join(model_dir, 'test.prototxt')\n",
    "# Drawing the network doesn't seem to work with 'include' fields in a layer\n",
    "network_im = draw_network(train_file, draw_to_file= False)\n",
    "display(Image(network_im))\n",
    "\n",
    "solver_file = os.path.join(model_dir, 'solver_unified.prototxt')\n",
    "print solver_file"
   ]
  },
  {
   "cell_type": "markdown",
   "metadata": {},
   "source": [
    "Fucntion copied from `train_net` that returns two databases containing the images and the regions of interest respectively "
   ]
  },
  {
   "cell_type": "code",
   "execution_count": null,
   "metadata": {},
   "outputs": [],
   "source": [
    "def combined_roidb(imdb_names):\n",
    "    def get_roidb(imdb_name):\n",
    "        print imdb_name\n",
    "        imdb = get_imdb(imdb_name)\n",
    "        print 'Loaded dataset `{:s}` for training'.format(imdb.name)\n",
    "        imdb.set_proposal_method(cfg.TRAIN.PROPOSAL_METHOD)\n",
    "        print 'Set proposal method: {:s}'.format(cfg.TRAIN.PROPOSAL_METHOD)\n",
    "        roidb = get_training_roidb(imdb)\n",
    "        return roidb\n",
    "\n",
    "    roidbs = [get_roidb(s) for s in imdb_names.split('+')]\n",
    "    roidb = roidbs[0]\n",
    "    if len(roidbs) > 1:\n",
    "        for r in roidbs[1:]:\n",
    "            roidb.extend(r)\n",
    "        imdb = datasets.imdb.imdb(imdb_names)\n",
    "    else:\n",
    "        imdb = get_imdb(imdb_names)\n",
    "    return imdb, roidb"
   ]
  },
  {
   "cell_type": "markdown",
   "metadata": {},
   "source": [
    "## Training"
   ]
  },
  {
   "cell_type": "code",
   "execution_count": null,
   "metadata": {},
   "outputs": [],
   "source": [
    "cfg_from_file('../experiments/cfgs/faster_rcnn_end2end_dstl.yml')\n",
    "cfg.TRAIN.SNAPSHOT_INFIX = 'third'\n",
    "cfg.TRAIN.SNAPSHOT_ITERS = 100\n",
    "cfg.PIXEL_MEANS = np.array([[[102.34775165, 93.19367343, 84.36433397]]])\n",
    "print('Using config:')\n",
    "pprint.pprint(cfg)\n",
    "np.random.seed(cfg.RNG_SEED)\n",
    "caffe.set_random_seed(cfg.RNG_SEED)\n",
    "imdb_train, roidb_train = combined_roidb('dstl'+appendix+'_train')\n",
    "imdb_val, roidb_val = combined_roidb('dstl'+appendix+'_val')\n",
    "output_dir = '/data/output/faster_rcnn_end2end/dstl'+appendix+'_train'\n",
    "print output_dir"
   ]
  },
  {
   "cell_type": "code",
   "execution_count": null,
   "metadata": {},
   "outputs": [],
   "source": [
    "# pretrained_caffemodel = '/home/ubuntu/dstl/models/{:s}/{:s}/trained/adapted_from_{:s}_faster_rcnn_final.caffemodel'.format(arch, infix, arch)\n",
    "pretrained_caffemodel = '/data/output/faster_rcnn_end2end/dstl{:s}_train/{:s}_faster_rcnn_second_iter_1000.caffemodel'.format(appendix, arch.lower())\n",
    "# pretrained_caffemodel = None\n",
    "if False:\n",
    "    model_paths, history = train_net(\n",
    "              solver_file, roidb_train, output_dir, roidb_val=roidb_val,                                                                                    \n",
    "              pretrained_model=pretrained_caffemodel,                                                                                \n",
    "              max_iters=10*cfg.TRAIN.SNAPSHOT_ITERS)     "
   ]
  },
  {
   "cell_type": "markdown",
   "metadata": {},
   "source": [
    "## Testing"
   ]
  },
  {
   "cell_type": "code",
   "execution_count": null,
   "metadata": {},
   "outputs": [],
   "source": [
    "trained_caffemodel = '/data/output/faster_rcnn_end2end/dstl{:s}_train/{:s}_faster_rcnn_third_iter_1000.caffemodel'.format(appendix, arch.lower())\n",
    "# trained_caffemodel = pretrained_caffemodel\n",
    "net = caffe.Net(test_file, trained_caffemodel, caffe.TEST)\n",
    "net.name = os.path.splitext(os.path.basename(trained_caffemodel))[0]\n",
    "print \"Loaded network from {:s}\".format(test_file)\n",
    "print \"loaded caffemodel from {:s}\".format(trained_caffemodel)"
   ]
  },
  {
   "cell_type": "code",
   "execution_count": null,
   "metadata": {},
   "outputs": [],
   "source": [
    "imdb = get_imdb('dstl{:s}_test'.format(appendix))"
   ]
  },
  {
   "cell_type": "code",
   "execution_count": null,
   "metadata": {},
   "outputs": [],
   "source": [
    "test_net(net, imdb, max_per_image=1000, max_im=None, thresh=0.5, vis=True, crop_size=None)"
   ]
  },
  {
   "cell_type": "code",
   "execution_count": null,
   "metadata": {},
   "outputs": [],
   "source": [
    "if False:\n",
    "    caffemodels = ['/data/output/faster_rcnn_end2end/dstl{:s}_train/{:s}_faster_rcnn_second_iter_{:d}.caffemodel'.format(appendix, arch.lower(), i) for i in range(100, 1100, 100)]\n",
    "    for caffemodel in caffemodels:\n",
    "        net = caffe.Net(test_file, caffemodel, caffe.TEST)\n",
    "        net.name = os.path.splitext(os.path.basename(caffemodel))[0]\n",
    "        print net.name\n",
    "        test_net(net, imdb, max_per_image=100, max_im=2, thresh=0.5, vis=True, crop_size=600)"
   ]
  },
  {
   "cell_type": "code",
   "execution_count": null,
   "metadata": {},
   "outputs": [],
   "source": []
  },
  {
   "cell_type": "code",
   "execution_count": null,
   "metadata": {},
   "outputs": [],
   "source": []
  },
  {
   "cell_type": "code",
   "execution_count": null,
   "metadata": {},
   "outputs": [],
   "source": []
  },
  {
   "cell_type": "code",
   "execution_count": null,
   "metadata": {},
   "outputs": [],
   "source": []
  },
  {
   "cell_type": "code",
   "execution_count": null,
   "metadata": {},
   "outputs": [],
   "source": []
  },
  {
   "cell_type": "code",
   "execution_count": null,
   "metadata": {},
   "outputs": [],
   "source": []
  },
  {
   "cell_type": "code",
   "execution_count": null,
   "metadata": {},
   "outputs": [],
   "source": []
  },
  {
   "cell_type": "code",
   "execution_count": null,
   "metadata": {},
   "outputs": [],
   "source": []
  },
  {
   "cell_type": "code",
   "execution_count": null,
   "metadata": {},
   "outputs": [],
   "source": []
  }
 ],
 "metadata": {
  "anaconda-cloud": {},
  "kernelspec": {
   "display_name": "Python 2",
   "language": "python",
   "name": "python2"
  },
  "language_info": {
   "codemirror_mode": {
    "name": "ipython",
    "version": 2
   },
   "file_extension": ".py",
   "mimetype": "text/x-python",
   "name": "python",
   "nbconvert_exporter": "python",
   "pygments_lexer": "ipython2"
  }
 },
 "nbformat": 4,
 "nbformat_minor": 1
}

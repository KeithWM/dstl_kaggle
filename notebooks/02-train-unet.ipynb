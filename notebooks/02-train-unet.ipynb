{
 "cells": [
  {
   "cell_type": "markdown",
   "metadata": {},
   "source": [
    "This notebook trains a UNet topology on the satellite data. It can operate on the different bands of information `A|M|P|RGB` individually, but not together. The training relies on the cross-entropy loss function. It seems training multiple classes simultaneously is ineffective, probably due to class imbalances. For a single class, the validation data appears to be good in the eyeball norm, even if there are some artefacts around the edges."
   ]
  },
  {
   "cell_type": "code",
   "execution_count": null,
   "metadata": {},
   "outputs": [],
   "source": [
    "import os    \n",
    "# tell this script to use gpu, will want to use cpu for prediction simultane  \n",
    "os.environ['THEANO_FLAGS'] = \"device=gpu0\" \n",
    "import keras\n",
    "from keras.layers import Input, merge, Convolution2D, MaxPooling2D, UpSampling2D, Reshape, core, Dropout\n",
    "from keras.models import Model, load_model\n",
    "from keras.optimizers import Adam\n",
    "from keras.callbacks import ModelCheckpoint\n",
    "from keras import backend\n",
    "from keras.backend import binary_crossentropy\n",
    "backend.set_image_dim_ordering('th')\n",
    "\n",
    "import numpy as np\n",
    "import itertools\n",
    "%matplotlib inline\n",
    "from matplotlib import pyplot as plt\n",
    "plt.rcParams['figure.figsize'] = (5, 5)\n",
    "\n",
    "import helper # contains some function that are used by a few of the notebooks on this matter\n",
    "import jaccard # contains some functions that compute the jaccard metric \n",
    "\n",
    "BAND = 'RGB' # which band to use\n",
    "CLASSES = (0,) # which class(es) to train\n",
    "class_str = helper.classes_string(CLASSES)\n",
    "\n",
    "N_BANDS = {'A': 8, 'M': 8, 'P': 1, 'RGB': 3}\n",
    "INPUT_SIZES = {'A': 128, 'M': 256, 'P': 1024, 'RGB': 1024}\n",
    "SMOOTH = 1e-10\n",
    "N_VAL = 10"
   ]
  },
  {
   "cell_type": "markdown",
   "metadata": {},
   "source": [
    "Set up the network topology"
   ]
  },
  {
   "cell_type": "code",
   "execution_count": null,
   "metadata": {},
   "outputs": [],
   "source": [
    "def get_unet(classes):\n",
    "    N_classes = len(classes)\n",
    "    isz = INPUT_SIZES[BAND]\n",
    "    inputs = Input((N_BANDS[BAND], isz, isz))\n",
    "    conv1 = Convolution2D(32, 3, 3, activation='relu', border_mode='same')(inputs)\n",
    "    conv1 = Convolution2D(32, 3, 3, activation='relu', border_mode='same')(conv1)\n",
    "    pool1 = MaxPooling2D(pool_size=(2, 2))(conv1)\n",
    "\n",
    "    conv2 = Convolution2D(64, 3, 3, activation='relu', border_mode='same')(pool1)\n",
    "    conv2 = Convolution2D(64, 3, 3, activation='relu', border_mode='same')(conv2)\n",
    "    pool2 = MaxPooling2D(pool_size=(2, 2))(conv2)\n",
    "\n",
    "    conv3 = Convolution2D(128, 3, 3, activation='relu', border_mode='same')(pool2)\n",
    "    conv3 = Convolution2D(128, 3, 3, activation='relu', border_mode='same')(conv3)\n",
    "    pool3 = MaxPooling2D(pool_size=(2, 2))(conv3)\n",
    "\n",
    "    conv4 = Convolution2D(256, 3, 3, activation='relu', border_mode='same')(pool3)\n",
    "    conv4 = Convolution2D(256, 3, 3, activation='relu', border_mode='same')(conv4)\n",
    "    pool4 = MaxPooling2D(pool_size=(2, 2))(conv4)\n",
    "\n",
    "    conv5 = Convolution2D(512, 3, 3, activation='relu', border_mode='same')(pool4)\n",
    "    conv5 = Convolution2D(512, 3, 3, activation='relu', border_mode='same')(conv5)\n",
    "\n",
    "    up6 = merge([UpSampling2D(size=(2, 2))(conv5), conv4], mode='concat', concat_axis=1)\n",
    "    conv6 = Convolution2D(256, 3, 3, activation='relu', border_mode='same')(up6)\n",
    "    conv6 = Convolution2D(256, 3, 3, activation='relu', border_mode='same')(conv6)\n",
    "\n",
    "    up7 = merge([UpSampling2D(size=(2, 2))(conv6), conv3], mode='concat', concat_axis=1)\n",
    "    conv7 = Convolution2D(128, 3, 3, activation='relu', border_mode='same')(up7)\n",
    "    conv7 = Convolution2D(128, 3, 3, activation='relu', border_mode='same')(conv7)\n",
    "\n",
    "    up8 = merge([UpSampling2D(size=(2, 2))(conv7), conv2], mode='concat', concat_axis=1)\n",
    "    conv8 = Convolution2D(64, 3, 3, activation='relu', border_mode='same')(up8)\n",
    "    conv8 = Convolution2D(64, 3, 3, activation='relu', border_mode='same')(conv8)\n",
    "\n",
    "    up9 = merge([UpSampling2D(size=(2, 2))(conv8), conv1], mode='concat', concat_axis=1)\n",
    "    conv9 = Convolution2D(32, 3, 3, activation='relu', border_mode='same')(up9)\n",
    "    conv9 = Convolution2D(32, 3, 3, activation='relu', border_mode='same')(conv9)\n",
    "\n",
    "    conv10 = Convolution2D(N_classes, 1, 1, activation='sigmoid')(conv9)\n",
    "\n",
    "    model = Model(input=inputs, output=conv10)\n",
    "    model.compile(optimizer=Adam(lr=0.000001), loss='binary_crossentropy', metrics=['accuracy'])\n",
    "    return model\n",
    "\n",
    "model = get_unet(CLASSES)\n",
    "model.save('model.hdf5')"
   ]
  },
  {
   "cell_type": "markdown",
   "metadata": {},
   "source": [
    "Train the network:"
   ]
  },
  {
   "cell_type": "code",
   "execution_count": null,
   "metadata": {},
   "outputs": [],
   "source": [
    "def train_net(model, classes, weights=None, history=None):\n",
    "    print \"start train net\"\n",
    "    input_size = INPUT_SIZES[BAND]\n",
    "\n",
    "    if weights:\n",
    "        model.load_weights('weights/{:s}'.format(weights))\n",
    "    model_checkpoint = ModelCheckpoint('weights/unet_tmp_classes{:s}.hdf5'.format(class_str),\n",
    "                                       monitor='loss', save_best_only=True)\n",
    "    \n",
    "    X_val, y_val, X_trn, y_trn = helper.get_more_patches(BAND, input_size, repetitions=1, classes=classes)\n",
    "    print X_val.nbytes\n",
    "    print 'loaded validation and training data sets into memory'\n",
    "\n",
    "    new_history = model.fit(X_trn, y_trn, batch_size=2, nb_epoch=10, verbose=1, shuffle=True,\n",
    "              callbacks=[model_checkpoint], validation_data=(X_val, y_val))\n",
    "    score, trs, y_prd = jaccard.calc_jacc(model, X_val, y_val)\n",
    "    model.save_weights('weights/unet_band{:s}_score{:.4f}_classes{:s}.hdf5'.format(BAND, score, class_str))\n",
    "    print '{:.4f} label sum in validation, training and prediction:'.format(score), y_val.sum(axis=(0, 2, 3)), y_trn.sum(axis=(0, 2, 3)), y_prd.sum(axis=(0, 2, 3))\n",
    "\n",
    "    if history is None:\n",
    "        history = new_history\n",
    "    else:\n",
    "        for key, val in new_history.history.items():\n",
    "            history.history[key] = history.history[key] + val\n",
    "\n",
    "    return model, history"
   ]
  },
  {
   "cell_type": "code",
   "execution_count": null,
   "metadata": {},
   "outputs": [],
   "source": [
    "history = None\n",
    "for superepoch in range(10):\n",
    "    model, history = train_net(model, CLASSES, history=history, weights='unet_tmp_classes{:s}.hdf5'.format(class_str))"
   ]
  },
  {
   "cell_type": "code",
   "execution_count": null,
   "metadata": {},
   "outputs": [],
   "source": [
    "plt.plot(history.history['val_loss'])\n",
    "plt.xlabel('epoch')\n",
    "plt.ylabel('validation loss')\n",
    "# plt.savefig('val_loss.png')"
   ]
  },
  {
   "cell_type": "code",
   "execution_count": null,
   "metadata": {},
   "outputs": [],
   "source": [
    "history.history['val_loss']"
   ]
  },
  {
   "cell_type": "code",
   "execution_count": null,
   "metadata": {},
   "outputs": [],
   "source": []
  },
  {
   "cell_type": "code",
   "execution_count": null,
   "metadata": {},
   "outputs": [],
   "source": []
  },
  {
   "cell_type": "code",
   "execution_count": null,
   "metadata": {},
   "outputs": [],
   "source": []
  },
  {
   "cell_type": "code",
   "execution_count": null,
   "metadata": {},
   "outputs": [],
   "source": []
  },
  {
   "cell_type": "markdown",
   "metadata": {},
   "source": [
    "Draw a pretty representation of the network"
   ]
  },
  {
   "cell_type": "code",
   "execution_count": null,
   "metadata": {},
   "outputs": [],
   "source": [
    "import pydot\n",
    "from keras.utils.visualize_util import plot\n",
    "plot(model, to_file='scheme.png', show_shapes=True)"
   ]
  }
 ],
 "metadata": {
  "anaconda-cloud": {},
  "kernelspec": {
   "display_name": "Python 2",
   "language": "python",
   "name": "python2"
  },
  "language_info": {
   "codemirror_mode": {
    "name": "ipython",
    "version": 2
   },
   "file_extension": ".py",
   "mimetype": "text/x-python",
   "name": "python",
   "nbconvert_exporter": "python",
   "pygments_lexer": "ipython2"
  }
 },
 "nbformat": 4,
 "nbformat_minor": 2
}

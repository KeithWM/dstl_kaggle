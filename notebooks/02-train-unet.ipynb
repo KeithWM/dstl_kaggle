{
 "cells": [
  {
   "cell_type": "markdown",
   "metadata": {},
   "source": [
    "This notebook trains a UNet topology on the satellite data. It can operate on the different bands of information `A|M|P|RGB` individually, but not together. The training relies on the cross-entropy loss function. It seems training multiple classes simultaneously is ineffective, probably due to class imbalances. For a single class, the validation data appears to be good in the eyeball norm, even if there are some artefacts around the edges."
   ]
  },
  {
   "cell_type": "code",
   "execution_count": 1,
   "metadata": {
    "collapsed": false
   },
   "outputs": [
    {
     "name": "stderr",
     "output_type": "stream",
     "text": [
      "Using Theano backend.\n",
      "Using gpu device 0: Tesla K80 (CNMeM is enabled with initial size: 95.0% of memory, cuDNN 5105)\n",
      "/home/icarus/anaconda2/lib/python2.7/site-packages/matplotlib/font_manager.py:273: UserWarning: Matplotlib is building the font cache using fc-list. This may take a moment.\n",
      "  warnings.warn('Matplotlib is building the font cache using fc-list. This may take a moment.')\n"
     ]
    }
   ],
   "source": [
    "import os    \n",
    "# tell this script to use gpu, will want to use cpu for prediction simultane  \n",
    "os.environ['THEANO_FLAGS'] = \"device=gpu0\" \n",
    "import keras\n",
    "from keras.layers import Input, merge, Convolution2D, MaxPooling2D, UpSampling2D, Reshape, core, Dropout\n",
    "from keras.models import Model, load_model\n",
    "from keras.optimizers import Adam\n",
    "from keras.callbacks import ModelCheckpoint\n",
    "from keras import backend\n",
    "from keras.backend import binary_crossentropy\n",
    "backend.set_image_dim_ordering('th')\n",
    "\n",
    "import numpy as np\n",
    "import itertools\n",
    "%matplotlib inline\n",
    "from matplotlib import pyplot as plt\n",
    "plt.rcParams['figure.figsize'] = (5, 5)\n",
    "\n",
    "import helper # contains some function that are used by a few of the notebooks on this matter\n",
    "import jaccard # contains some functions that compute the jaccard metric \n",
    "\n",
    "BAND = 'RGB' # which band to use\n",
    "CLASSES = (0,) # which class(es) to train\n",
    "class_str = helper.classes_string(CLASSES)\n",
    "\n",
    "N_BANDS = {'A': 8, 'M': 8, 'P': 1, 'RGB': 3}\n",
    "INPUT_SIZES = {'A': 128, 'M': 256, 'P': 1024, 'RGB': 1024}\n",
    "SMOOTH = 1e-10\n",
    "N_VAL = 10"
   ]
  },
  {
   "cell_type": "markdown",
   "metadata": {},
   "source": [
    "Set up the network topology"
   ]
  },
  {
   "cell_type": "code",
   "execution_count": 4,
   "metadata": {
    "collapsed": false
   },
   "outputs": [],
   "source": [
    "def get_unet(classes):\n",
    "    N_classes = len(classes)\n",
    "    isz = INPUT_SIZES[BAND]\n",
    "    inputs = Input((N_BANDS[BAND], isz, isz))\n",
    "    conv1 = Convolution2D(32, 3, 3, activation='relu', border_mode='same')(inputs)\n",
    "    conv1 = Convolution2D(32, 3, 3, activation='relu', border_mode='same')(conv1)\n",
    "    pool1 = MaxPooling2D(pool_size=(2, 2))(conv1)\n",
    "\n",
    "    conv2 = Convolution2D(64, 3, 3, activation='relu', border_mode='same')(pool1)\n",
    "    conv2 = Convolution2D(64, 3, 3, activation='relu', border_mode='same')(conv2)\n",
    "    pool2 = MaxPooling2D(pool_size=(2, 2))(conv2)\n",
    "\n",
    "    conv3 = Convolution2D(128, 3, 3, activation='relu', border_mode='same')(pool2)\n",
    "    conv3 = Convolution2D(128, 3, 3, activation='relu', border_mode='same')(conv3)\n",
    "    pool3 = MaxPooling2D(pool_size=(2, 2))(conv3)\n",
    "\n",
    "    conv4 = Convolution2D(256, 3, 3, activation='relu', border_mode='same')(pool3)\n",
    "    conv4 = Convolution2D(256, 3, 3, activation='relu', border_mode='same')(conv4)\n",
    "    pool4 = MaxPooling2D(pool_size=(2, 2))(conv4)\n",
    "\n",
    "    conv5 = Convolution2D(512, 3, 3, activation='relu', border_mode='same')(pool4)\n",
    "    conv5 = Convolution2D(512, 3, 3, activation='relu', border_mode='same')(conv5)\n",
    "\n",
    "    up6 = merge([UpSampling2D(size=(2, 2))(conv5), conv4], mode='concat', concat_axis=1)\n",
    "    conv6 = Convolution2D(256, 3, 3, activation='relu', border_mode='same')(up6)\n",
    "    conv6 = Convolution2D(256, 3, 3, activation='relu', border_mode='same')(conv6)\n",
    "\n",
    "    up7 = merge([UpSampling2D(size=(2, 2))(conv6), conv3], mode='concat', concat_axis=1)\n",
    "    conv7 = Convolution2D(128, 3, 3, activation='relu', border_mode='same')(up7)\n",
    "    conv7 = Convolution2D(128, 3, 3, activation='relu', border_mode='same')(conv7)\n",
    "\n",
    "    up8 = merge([UpSampling2D(size=(2, 2))(conv7), conv2], mode='concat', concat_axis=1)\n",
    "    conv8 = Convolution2D(64, 3, 3, activation='relu', border_mode='same')(up8)\n",
    "    conv8 = Convolution2D(64, 3, 3, activation='relu', border_mode='same')(conv8)\n",
    "\n",
    "    up9 = merge([UpSampling2D(size=(2, 2))(conv8), conv1], mode='concat', concat_axis=1)\n",
    "    conv9 = Convolution2D(32, 3, 3, activation='relu', border_mode='same')(up9)\n",
    "    conv9 = Convolution2D(32, 3, 3, activation='relu', border_mode='same')(conv9)\n",
    "\n",
    "    conv10 = Convolution2D(N_classes, 1, 1, activation='sigmoid')(conv9)\n",
    "\n",
    "    model = Model(input=inputs, output=conv10)\n",
    "    model.compile(optimizer=Adam(lr=0.000001), loss='binary_crossentropy', metrics=['accuracy'])\n",
    "    return model\n",
    "\n",
    "model = get_unet(CLASSES)\n",
    "model.save('model.hdf5')"
   ]
  },
  {
   "cell_type": "markdown",
   "metadata": {},
   "source": [
    "Train the network:"
   ]
  },
  {
   "cell_type": "code",
   "execution_count": 5,
   "metadata": {
    "collapsed": true
   },
   "outputs": [],
   "source": [
    "def train_net(model, classes, weights=None, history=None):\n",
    "    print \"start train net\"\n",
    "    input_size = INPUT_SIZES[BAND]\n",
    "\n",
    "    if weights:\n",
    "        model.load_weights('weights/{:s}'.format(weights))\n",
    "    model_checkpoint = ModelCheckpoint('weights/unet_tmp_classes{:s}.hdf5'.format(class_str),\n",
    "                                       monitor='loss', save_best_only=True)\n",
    "    \n",
    "    X_val, y_val, X_trn, y_trn = helper.get_more_patches(BAND, input_size, repetitions=1, classes=classes)\n",
    "    print X_val.nbytes\n",
    "    print 'loaded validation and training data sets into memory'\n",
    "\n",
    "    new_history = model.fit(X_trn, y_trn, batch_size=2, nb_epoch=10, verbose=1, shuffle=True,\n",
    "              callbacks=[model_checkpoint], validation_data=(X_val, y_val))\n",
    "    score, trs, y_prd = jaccard.calc_jacc(model, X_val, y_val)\n",
    "    model.save_weights('weights/unet_band{:s}_score{:.4f}_classes{:s}.hdf5'.format(BAND, score, class_str))\n",
    "    print '{:.4f} label sum in validation, training and prediction:'.format(score), y_val.sum(axis=(0, 2, 3)), y_trn.sum(axis=(0, 2, 3)), y_prd.sum(axis=(0, 2, 3))\n",
    "\n",
    "    if history is None:\n",
    "        history = new_history\n",
    "    else:\n",
    "        for key, val in new_history.history.items():\n",
    "            history.history[key] = history.history[key] + val\n",
    "\n",
    "    return model, history"
   ]
  },
  {
   "cell_type": "code",
   "execution_count": null,
   "metadata": {
    "collapsed": false
   },
   "outputs": [
    {
     "name": "stdout",
     "output_type": "stream",
     "text": [
      "start train net\n",
      "125829120\n",
      "loaded validation and training data sets into memory\n",
      "Train on 20 samples, validate on 5 samples\n",
      "Epoch 1/10\n",
      "20/20 [==============================] - 48s - loss: 0.1427 - acc: 0.9665 - val_loss: 0.2442 - val_acc: 0.9377\n",
      "Epoch 2/10\n",
      "20/20 [==============================] - 49s - loss: 0.1424 - acc: 0.9665 - val_loss: 0.2435 - val_acc: 0.9377\n",
      "Epoch 3/10\n",
      "20/20 [==============================] - 49s - loss: 0.1422 - acc: 0.9665 - val_loss: 0.2433 - val_acc: 0.9377\n",
      "Epoch 4/10\n",
      "20/20 [==============================] - 49s - loss: 0.1422 - acc: 0.9665 - val_loss: 0.2429 - val_acc: 0.9377\n",
      "Epoch 5/10\n",
      "20/20 [==============================] - 49s - loss: 0.1419 - acc: 0.9665 - val_loss: 0.2421 - val_acc: 0.9377\n",
      "Epoch 9/10\n",
      "20/20 [==============================] - 49s - loss: 0.1422 - acc: 0.9665 - val_loss: 0.2415 - val_acc: 0.9377\n",
      "Epoch 10/10\n",
      "20/20 [==============================] - 49s - loss: 0.1420 - acc: 0.9665 - val_loss: 0.2413 - val_acc: 0.9377\n",
      "0 0.7666015625 0.34\n",
      "0.0767 label sum in validation, training and prediction: [ 326510.] [ 702767.] [ 217700.828125]\n",
      "125829120\n",
      "loaded validation and training data sets into memory\n",
      "Train on 20 samples, validate on 5 samples\n",
      "Epoch 1/10\n",
      "20/20 [==============================] - 49s - loss: 0.1420 - acc: 0.9665 - val_loss: 0.2417 - val_acc: 0.9377\n",
      "Epoch 2/10\n",
      "20/20 [==============================] - 49s - loss: 0.1420 - acc: 0.9665 - val_loss: 0.2418 - val_acc: 0.9377\n",
      "Epoch 3/10\n",
      "20/20 [==============================] - 49s - loss: 0.1422 - acc: 0.9665 - val_loss: 0.2422 - val_acc: 0.9377\n",
      "Epoch 4/10\n",
      "20/20 [==============================] - 49s - loss: 0.1419 - acc: 0.9665 - val_loss: 0.2422 - val_acc: 0.9377\n",
      "Epoch 5/10\n",
      "20/20 [==============================] - 49s - loss: 0.1419 - acc: 0.9665 - val_loss: 0.2418 - val_acc: 0.9377\n",
      "Epoch 6/10\n",
      "20/20 [==============================] - 49s - loss: 0.1420 - acc: 0.9665 - val_loss: 0.2421 - val_acc: 0.9377\n",
      "Epoch 7/10\n",
      "20/20 [==============================] - 49s - loss: 0.1420 - acc: 0.9665 - val_loss: 0.2415 - val_acc: 0.9377\n",
      "Epoch 8/10\n",
      "20/20 [==============================] - 49s - loss: 0.1420 - acc: 0.9665 - val_loss: 0.2412 - val_acc: 0.9377\n",
      "Epoch 9/10\n",
      "20/20 [==============================] - 49s - loss: 0.1422 - acc: 0.9665 - val_loss: 0.2420 - val_acc: 0.9377\n",
      "Epoch 10/10\n",
      "20/20 [==============================] - 50s - loss: 0.1419 - acc: 0.9665 - val_loss: 0.2416 - val_acc: 0.9377\n",
      "0 0.7666015625 0.34\n",
      "0.0767 label sum in validation, training and prediction: [ 326510.] [ 702767.] [ 214626.46875]\n",
      "125829120\n",
      "loaded validation and training data sets into memory\n",
      "Train on 20 samples, validate on 5 samples\n",
      "Epoch 1/10\n",
      "20/20 [==============================] - 49s - loss: 0.1419 - acc: 0.9665 - val_loss: 0.2415 - val_acc: 0.9377\n",
      "Epoch 2/10\n",
      "20/20 [==============================] - 49s - loss: 0.1419 - acc: 0.9665 - val_loss: 0.2417 - val_acc: 0.9377\n",
      "Epoch 3/10\n",
      "20/20 [==============================] - 49s - loss: 0.1419 - acc: 0.9665 - val_loss: 0.2419 - val_acc: 0.9377\n",
      "Epoch 4/10\n",
      "20/20 [==============================] - 49s - loss: 0.1419 - acc: 0.9665 - val_loss: 0.2415 - val_acc: 0.9377\n",
      "Epoch 5/10\n",
      "20/20 [==============================] - 49s - loss: 0.1421 - acc: 0.9665 - val_loss: 0.2421 - val_acc: 0.9377\n",
      "Epoch 6/10\n",
      "20/20 [==============================] - 49s - loss: 0.1419 - acc: 0.9665 - val_loss: 0.2419 - val_acc: 0.9377\n",
      "Epoch 7/10\n",
      "20/20 [==============================] - 49s - loss: 0.1418 - acc: 0.9665 - val_loss: 0.2418 - val_acc: 0.9377\n",
      "Epoch 10/10\n",
      "20/20 [==============================] - 49s - loss: 0.1417 - acc: 0.9665 - val_loss: 0.2415 - val_acc: 0.9377\n",
      "0 0.7666015625 0.34\n",
      "0.0767 label sum in validation, training and prediction: [ 326510.] [ 702767.] [ 215907.375]\n",
      "125829120\n",
      "loaded validation and training data sets into memory\n",
      "Train on 20 samples, validate on 5 samples\n",
      "Epoch 1/10\n",
      "18/20 [==========================>...] - ETA: 4s - loss: 0.1536 - acc: 0.9628"
     ]
    },
    {
     "ename": "KeyboardInterrupt",
     "evalue": "",
     "output_type": "error",
     "traceback": [
      "\u001b[0;31m\u001b[0m",
      "\u001b[0;31mKeyboardInterrupt\u001b[0mTraceback (most recent call last)",
      "\u001b[0;32m<ipython-input-6-6cca87ba9fa8>\u001b[0m in \u001b[0;36m<module>\u001b[0;34m()\u001b[0m\n\u001b[0;32m----> 1\u001b[0;31m \u001b[0mmodel\u001b[0m\u001b[0;34m,\u001b[0m \u001b[0mhistory\u001b[0m \u001b[0;34m=\u001b[0m \u001b[0mtrain_net\u001b[0m\u001b[0;34m(\u001b[0m\u001b[0mmodel\u001b[0m\u001b[0;34m,\u001b[0m \u001b[0mCLASSES\u001b[0m\u001b[0;34m,\u001b[0m \u001b[0mN_epoch\u001b[0m\u001b[0;34m=\u001b[0m\u001b[0;36m10\u001b[0m\u001b[0;34m,\u001b[0m \u001b[0mhistory\u001b[0m\u001b[0;34m=\u001b[0m\u001b[0mNone\u001b[0m\u001b[0;34m,\u001b[0m \u001b[0mweights\u001b[0m\u001b[0;34m=\u001b[0m\u001b[0;34m'unet_tmp_classes{:s}.hdf5'\u001b[0m\u001b[0;34m.\u001b[0m\u001b[0mformat\u001b[0m\u001b[0;34m(\u001b[0m\u001b[0mclass_str\u001b[0m\u001b[0;34m)\u001b[0m\u001b[0;34m)\u001b[0m\u001b[0;34m\u001b[0m\u001b[0m\n\u001b[0m",
      "\u001b[0;32m<ipython-input-5-1913811e570e>\u001b[0m in \u001b[0;36mtrain_net\u001b[0;34m(model, classes, N_epoch, weights, history)\u001b[0m\n\u001b[1;32m     13\u001b[0m \u001b[0;34m\u001b[0m\u001b[0m\n\u001b[1;32m     14\u001b[0m         new_history = model.fit(X_trn, y_trn, batch_size=2, nb_epoch=10, verbose=1, shuffle=True,\n\u001b[0;32m---> 15\u001b[0;31m                   callbacks=[model_checkpoint], validation_data=(X_val, y_val))\n\u001b[0m\u001b[1;32m     16\u001b[0m         \u001b[0mscore\u001b[0m\u001b[0;34m,\u001b[0m \u001b[0mtrs\u001b[0m\u001b[0;34m,\u001b[0m \u001b[0my_prd\u001b[0m \u001b[0;34m=\u001b[0m \u001b[0mjaccard\u001b[0m\u001b[0;34m.\u001b[0m\u001b[0mcalc_jacc\u001b[0m\u001b[0;34m(\u001b[0m\u001b[0mmodel\u001b[0m\u001b[0;34m,\u001b[0m \u001b[0mX_val\u001b[0m\u001b[0;34m,\u001b[0m \u001b[0my_val\u001b[0m\u001b[0;34m)\u001b[0m\u001b[0;34m\u001b[0m\u001b[0m\n\u001b[1;32m     17\u001b[0m         \u001b[0mmodel\u001b[0m\u001b[0;34m.\u001b[0m\u001b[0msave_weights\u001b[0m\u001b[0;34m(\u001b[0m\u001b[0;34m'weights/unet_band{:s}_score{:.4f}_classes{:s}.hdf5'\u001b[0m\u001b[0;34m.\u001b[0m\u001b[0mformat\u001b[0m\u001b[0;34m(\u001b[0m\u001b[0mBAND\u001b[0m\u001b[0;34m,\u001b[0m \u001b[0mscore\u001b[0m\u001b[0;34m,\u001b[0m \u001b[0mclass_str\u001b[0m\u001b[0;34m)\u001b[0m\u001b[0;34m)\u001b[0m\u001b[0;34m\u001b[0m\u001b[0m\n",
      "\u001b[0;32m/home/icarus/anaconda2/lib/python2.7/site-packages/keras/engine/training.pyc\u001b[0m in \u001b[0;36mfit\u001b[0;34m(self, x, y, batch_size, nb_epoch, verbose, callbacks, validation_split, validation_data, shuffle, class_weight, sample_weight)\u001b[0m\n\u001b[1;32m   1122\u001b[0m                               \u001b[0mverbose\u001b[0m\u001b[0;34m=\u001b[0m\u001b[0mverbose\u001b[0m\u001b[0;34m,\u001b[0m \u001b[0mcallbacks\u001b[0m\u001b[0;34m=\u001b[0m\u001b[0mcallbacks\u001b[0m\u001b[0;34m,\u001b[0m\u001b[0;34m\u001b[0m\u001b[0m\n\u001b[1;32m   1123\u001b[0m                               \u001b[0mval_f\u001b[0m\u001b[0;34m=\u001b[0m\u001b[0mval_f\u001b[0m\u001b[0;34m,\u001b[0m \u001b[0mval_ins\u001b[0m\u001b[0;34m=\u001b[0m\u001b[0mval_ins\u001b[0m\u001b[0;34m,\u001b[0m \u001b[0mshuffle\u001b[0m\u001b[0;34m=\u001b[0m\u001b[0mshuffle\u001b[0m\u001b[0;34m,\u001b[0m\u001b[0;34m\u001b[0m\u001b[0m\n\u001b[0;32m-> 1124\u001b[0;31m                               callback_metrics=callback_metrics)\n\u001b[0m\u001b[1;32m   1125\u001b[0m \u001b[0;34m\u001b[0m\u001b[0m\n\u001b[1;32m   1126\u001b[0m     \u001b[0;32mdef\u001b[0m \u001b[0mevaluate\u001b[0m\u001b[0;34m(\u001b[0m\u001b[0mself\u001b[0m\u001b[0;34m,\u001b[0m \u001b[0mx\u001b[0m\u001b[0;34m,\u001b[0m \u001b[0my\u001b[0m\u001b[0;34m,\u001b[0m \u001b[0mbatch_size\u001b[0m\u001b[0;34m=\u001b[0m\u001b[0;36m32\u001b[0m\u001b[0;34m,\u001b[0m \u001b[0mverbose\u001b[0m\u001b[0;34m=\u001b[0m\u001b[0;36m1\u001b[0m\u001b[0;34m,\u001b[0m \u001b[0msample_weight\u001b[0m\u001b[0;34m=\u001b[0m\u001b[0mNone\u001b[0m\u001b[0;34m)\u001b[0m\u001b[0;34m:\u001b[0m\u001b[0;34m\u001b[0m\u001b[0m\n",
      "\u001b[0;32m/home/icarus/anaconda2/lib/python2.7/site-packages/keras/engine/training.pyc\u001b[0m in \u001b[0;36m_fit_loop\u001b[0;34m(self, f, ins, out_labels, batch_size, nb_epoch, verbose, callbacks, val_f, val_ins, shuffle, callback_metrics)\u001b[0m\n\u001b[1;32m    854\u001b[0m                         val_outs = self._test_loop(val_f, val_ins,\n\u001b[1;32m    855\u001b[0m                                                    \u001b[0mbatch_size\u001b[0m\u001b[0;34m=\u001b[0m\u001b[0mbatch_size\u001b[0m\u001b[0;34m,\u001b[0m\u001b[0;34m\u001b[0m\u001b[0m\n\u001b[0;32m--> 856\u001b[0;31m                                                    verbose=0)\n\u001b[0m\u001b[1;32m    857\u001b[0m                         \u001b[0;32mif\u001b[0m \u001b[0mtype\u001b[0m\u001b[0;34m(\u001b[0m\u001b[0mval_outs\u001b[0m\u001b[0;34m)\u001b[0m \u001b[0;34m!=\u001b[0m \u001b[0mlist\u001b[0m\u001b[0;34m:\u001b[0m\u001b[0;34m\u001b[0m\u001b[0m\n\u001b[1;32m    858\u001b[0m                             \u001b[0mval_outs\u001b[0m \u001b[0;34m=\u001b[0m \u001b[0;34m[\u001b[0m\u001b[0mval_outs\u001b[0m\u001b[0;34m]\u001b[0m\u001b[0;34m\u001b[0m\u001b[0m\n",
      "\u001b[0;32m/home/icarus/anaconda2/lib/python2.7/site-packages/keras/engine/training.pyc\u001b[0m in \u001b[0;36m_test_loop\u001b[0;34m(self, f, ins, batch_size, verbose)\u001b[0m\n\u001b[1;32m    939\u001b[0m                 \u001b[0mins_batch\u001b[0m \u001b[0;34m=\u001b[0m \u001b[0mslice_X\u001b[0m\u001b[0;34m(\u001b[0m\u001b[0mins\u001b[0m\u001b[0;34m,\u001b[0m \u001b[0mbatch_ids\u001b[0m\u001b[0;34m)\u001b[0m\u001b[0;34m\u001b[0m\u001b[0m\n\u001b[1;32m    940\u001b[0m \u001b[0;34m\u001b[0m\u001b[0m\n\u001b[0;32m--> 941\u001b[0;31m             \u001b[0mbatch_outs\u001b[0m \u001b[0;34m=\u001b[0m \u001b[0mf\u001b[0m\u001b[0;34m(\u001b[0m\u001b[0mins_batch\u001b[0m\u001b[0;34m)\u001b[0m\u001b[0;34m\u001b[0m\u001b[0m\n\u001b[0m\u001b[1;32m    942\u001b[0m             \u001b[0;32mif\u001b[0m \u001b[0mtype\u001b[0m\u001b[0;34m(\u001b[0m\u001b[0mbatch_outs\u001b[0m\u001b[0;34m)\u001b[0m \u001b[0;34m==\u001b[0m \u001b[0mlist\u001b[0m\u001b[0;34m:\u001b[0m\u001b[0;34m\u001b[0m\u001b[0m\n\u001b[1;32m    943\u001b[0m                 \u001b[0;32mif\u001b[0m \u001b[0mbatch_index\u001b[0m \u001b[0;34m==\u001b[0m \u001b[0;36m0\u001b[0m\u001b[0;34m:\u001b[0m\u001b[0;34m\u001b[0m\u001b[0m\n",
      "\u001b[0;32m/home/icarus/anaconda2/lib/python2.7/site-packages/keras/backend/theano_backend.pyc\u001b[0m in \u001b[0;36m__call__\u001b[0;34m(self, inputs)\u001b[0m\n\u001b[1;32m    775\u001b[0m     \u001b[0;32mdef\u001b[0m \u001b[0m__call__\u001b[0m\u001b[0;34m(\u001b[0m\u001b[0mself\u001b[0m\u001b[0;34m,\u001b[0m \u001b[0minputs\u001b[0m\u001b[0;34m)\u001b[0m\u001b[0;34m:\u001b[0m\u001b[0;34m\u001b[0m\u001b[0m\n\u001b[1;32m    776\u001b[0m         \u001b[0;32massert\u001b[0m \u001b[0mtype\u001b[0m\u001b[0;34m(\u001b[0m\u001b[0minputs\u001b[0m\u001b[0;34m)\u001b[0m \u001b[0;32min\u001b[0m \u001b[0;34m{\u001b[0m\u001b[0mlist\u001b[0m\u001b[0;34m,\u001b[0m \u001b[0mtuple\u001b[0m\u001b[0;34m}\u001b[0m\u001b[0;34m\u001b[0m\u001b[0m\n\u001b[0;32m--> 777\u001b[0;31m         \u001b[0;32mreturn\u001b[0m \u001b[0mself\u001b[0m\u001b[0;34m.\u001b[0m\u001b[0mfunction\u001b[0m\u001b[0;34m(\u001b[0m\u001b[0;34m*\u001b[0m\u001b[0minputs\u001b[0m\u001b[0;34m)\u001b[0m\u001b[0;34m\u001b[0m\u001b[0m\n\u001b[0m\u001b[1;32m    778\u001b[0m \u001b[0;34m\u001b[0m\u001b[0m\n\u001b[1;32m    779\u001b[0m \u001b[0;34m\u001b[0m\u001b[0m\n",
      "\u001b[0;32m/home/icarus/anaconda2/lib/python2.7/site-packages/theano/compile/function_module.pyc\u001b[0m in \u001b[0;36m__call__\u001b[0;34m(self, *args, **kwargs)\u001b[0m\n\u001b[1;32m    864\u001b[0m         \u001b[0;32mtry\u001b[0m\u001b[0;34m:\u001b[0m\u001b[0;34m\u001b[0m\u001b[0m\n\u001b[1;32m    865\u001b[0m             \u001b[0moutputs\u001b[0m \u001b[0;34m=\u001b[0m\u001b[0;31m\\\u001b[0m\u001b[0;34m\u001b[0m\u001b[0m\n\u001b[0;32m--> 866\u001b[0;31m                 \u001b[0mself\u001b[0m\u001b[0;34m.\u001b[0m\u001b[0mfn\u001b[0m\u001b[0;34m(\u001b[0m\u001b[0;34m)\u001b[0m \u001b[0;32mif\u001b[0m \u001b[0moutput_subset\u001b[0m \u001b[0;32mis\u001b[0m \u001b[0mNone\u001b[0m \u001b[0;32melse\u001b[0m\u001b[0;31m\\\u001b[0m\u001b[0;34m\u001b[0m\u001b[0m\n\u001b[0m\u001b[1;32m    867\u001b[0m                 \u001b[0mself\u001b[0m\u001b[0;34m.\u001b[0m\u001b[0mfn\u001b[0m\u001b[0;34m(\u001b[0m\u001b[0moutput_subset\u001b[0m\u001b[0;34m=\u001b[0m\u001b[0moutput_subset\u001b[0m\u001b[0;34m)\u001b[0m\u001b[0;34m\u001b[0m\u001b[0m\n\u001b[1;32m    868\u001b[0m         \u001b[0;32mexcept\u001b[0m \u001b[0mException\u001b[0m\u001b[0;34m:\u001b[0m\u001b[0;34m\u001b[0m\u001b[0m\n",
      "\u001b[0;31mKeyboardInterrupt\u001b[0m: "
     ]
    }
   ],
   "source": [
    "history = None\n",
    "for superepoch in range(10):\n",
    "    model, history = train_net(model, CLASSES, history=history, weights='unet_tmp_classes{:s}.hdf5'.format(class_str))"
   ]
  },
  {
   "cell_type": "code",
   "execution_count": 52,
   "metadata": {
    "collapsed": false
   },
   "outputs": [
    {
     "data": {
      "text/plain": [
       "<matplotlib.text.Text at 0x7f5d33f07590>"
      ]
     },
     "execution_count": 52,
     "metadata": {},
     "output_type": "execute_result"
    },
    {
     "data": {
      "image/png": "[encoded data removed]",
      "text/plain": [
       "<matplotlib.figure.Figure at 0x7f5d370d0790>"
      ]
     },
     "metadata": {},
     "output_type": "display_data"
    }
   ],
   "source": [
    "plt.plot(history.history['val_loss'])\n",
    "plt.xlabel('epoch')\n",
    "plt.ylabel('validation loss')\n",
    "# plt.savefig('val_loss.png')"
   ]
  },
  {
   "cell_type": "code",
   "execution_count": 36,
   "metadata": {
    "collapsed": false,
    "scrolled": true
   },
   "outputs": [
    {
     "data": {
      "text/plain": [
       "[0.53363726139068601,\n",
       " 0.40545186996459959,\n",
       " 0.42427934408187867,\n",
       " 0.35679300129413605,\n",
       " 0.38380743265151979,\n",
       " 0.47683820128440857,\n",
       " 0.34749456346035001,\n",
       " 0.37575367689132688,\n",
       " 0.37523713111877444,\n",
       " 0.33853585124015806,\n",
       " 0.34480912387371065,\n",
       " 0.4376259446144104,\n",
       " 0.32996282577514646,\n",
       " 0.37796559929847717,\n",
       " 0.33073592483997344,\n",
       " 0.38067867755889895,\n",
       " 0.32367329895496366,\n",
       " 0.39609495401382444,\n",
       " 0.32546149343252184,\n",
       " 0.33207647800445556]"
      ]
     },
     "execution_count": 36,
     "metadata": {},
     "output_type": "execute_result"
    }
   ],
   "source": [
    "history.history['val_loss']"
   ]
  },
  {
   "cell_type": "code",
   "execution_count": 28,
   "metadata": {
    "collapsed": false
   },
   "outputs": [
    {
     "data": {
      "text/plain": [
       "[0.67722572088241573,\n",
       " 0.44977658241987228,\n",
       " 0.47551475465297699,\n",
       " 0.4289169028401375,\n",
       " 0.43678405582904817,\n",
       " 0.478101110458374,\n",
       " 0.45295405983924864,\n",
       " 0.45039038658142089,\n",
       " 0.41261821091175077,\n",
       " 0.41114613711833953,\n",
       " 0.67722572088241573,\n",
       " 0.44977658241987228,\n",
       " 0.47551475465297699,\n",
       " 0.4289169028401375,\n",
       " 0.43678405582904817,\n",
       " 0.478101110458374,\n",
       " 0.45295405983924864,\n",
       " 0.45039038658142089,\n",
       " 0.41261821091175077,\n",
       " 0.41114613711833953]"
      ]
     },
     "execution_count": 28,
     "metadata": {},
     "output_type": "execute_result"
    }
   ],
   "source": []
  },
  {
   "cell_type": "code",
   "execution_count": null,
   "metadata": {
    "collapsed": false
   },
   "outputs": [],
   "source": []
  },
  {
   "cell_type": "code",
   "execution_count": null,
   "metadata": {
    "collapsed": false
   },
   "outputs": [],
   "source": []
  },
  {
   "cell_type": "code",
   "execution_count": null,
   "metadata": {
    "collapsed": true
   },
   "outputs": [],
   "source": []
  },
  {
   "cell_type": "markdown",
   "metadata": {},
   "source": [
    "Draw a pretty representation of the network"
   ]
  },
  {
   "cell_type": "code",
   "execution_count": 48,
   "metadata": {
    "collapsed": true
   },
   "outputs": [],
   "source": [
    "import pydot\n",
    "from keras.utils.visualize_util import plot\n",
    "plot(model, to_file='scheme.png', show_shapes=True)"
   ]
  }
 ],
 "metadata": {
  "anaconda-cloud": {},
  "kernelspec": {
   "display_name": "Python [default]",
   "language": "python",
   "name": "python2"
  },
  "language_info": {
   "codemirror_mode": {
    "name": "ipython",
    "version": 2
   },
   "file_extension": ".py",
   "mimetype": "text/x-python",
   "name": "python",
   "nbconvert_exporter": "python",
   "pygments_lexer": "ipython2",
   "version": "2.7.12"
  }
 },
 "nbformat": 4,
 "nbformat_minor": 2
}

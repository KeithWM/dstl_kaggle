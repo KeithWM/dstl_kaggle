{
 "cells": [
  {
   "cell_type": "markdown",
   "metadata": {},
   "source": [
    "# Adapt a dstl network to be used with more or fewer classes\n",
    "Based on the experience that a network on the 6 classes (0, 1, 4, 7, 8, 9) has trouble finding the less frequent classes (7, 8 ,9), we consider using this network as a basis for a new network that learns only the less frequent classes.\n",
    "\n",
    "Aborted due to time constraint"
   ]
  },
  {
   "cell_type": "code",
   "execution_count": null,
   "metadata": {},
   "outputs": [],
   "source": [
    "import os\n",
    "import sys\n",
    "import pprint\n",
    "\n",
    "import numpy as np\n",
    "import matplotlib\n",
    "matplotlib.use('Agg')\n",
    "%matplotlib inline\n",
    "from matplotlib import pyplot as plt"
   ]
  },
  {
   "cell_type": "code",
   "execution_count": null,
   "metadata": {},
   "outputs": [],
   "source": [
    "def add_path(path):\n",
    "    if path not in sys.path:\n",
    "        sys.path.insert(0, path)\n",
    "\n",
    "# need to point the correct location of the py-faster-rcnn version of the caffe library\n",
    "add_path('/home/ubuntu/src/py-faster-rcnn/caffe-fast-rcnn/python')\n",
    "add_path('/home/ubuntu/src/py-faster-rcnn/lib')\n",
    "import caffe\n",
    "from datasets.factory import get_imdb, list_imdbs\n",
    "from fast_rcnn.test import test_net\n",
    "from fast_rcnn.train import get_training_roidb, train_net\n",
    "from fast_rcnn.config import cfg, cfg_from_file, cfg_from_list, get_output_dir\n",
    "print \"Loaded caffe version {:s} from {:s}.\".format(caffe.__version__, caffe.__path__[0])"
   ]
  },
  {
   "cell_type": "code",
   "execution_count": null,
   "metadata": {},
   "outputs": [],
   "source": [
    "arch = 'VGG16'\n",
    "target_classes = (7, 8, 9) # classes that should be in the output network\n",
    "old_classes = (0, 1, 4, 7, 8, 9) # classes of the network from which we take the original weights\n",
    "new_classes = () # classes in the new network (that will overwrite the old)\n",
    "\n",
    "def create_ix(classes):\n",
    "    appendix = '' # This will codify which classes to train (if not all, in which case this string should be empty)\n",
    "    infix = '.' # for directories\n",
    "    if classes is not None:\n",
    "        appendix = '_'+''.join(['{:d}'.format(c) for c in classes])\n",
    "        infix = '{:d}'.format(len(classes))+'_classes'\n",
    "    return infix, appendix\n",
    "        \n",
    "target_infix, target_appendix = create_ix(target_classes)\n",
    "old_infix, old_appendix = create_ix(old_classes)\n",
    "new_infix, new_appendix = create_ix(new_classes)"
   ]
  },
  {
   "cell_type": "markdown",
   "metadata": {},
   "source": [
    "Load the old (and new) model with weights and the target model without weights."
   ]
  },
  {
   "cell_type": "code",
   "execution_count": null,
   "metadata": {},
   "outputs": [],
   "source": [
    "target_test_file = '/home/ubuntu/dstl/models/{:s}/{:s}/test.prototxt'.format(arch, target_infix)\n",
    "target_net = caffe.Net(target_test_file, caffe.TEST)\n",
    "\n",
    "old_test_file = '/home/ubuntu/dstl/models/{:s}/{:s}/test.prototxt'.format(arch, old_infix)\n",
    "old_model = '/data/output/faster_rcnn_end2end/dstl{:s}_train/{:s}_faster_rcnn_third_iter_1000.caffemodel'.format(old_appendix, arch.lower())\n",
    "old_net = caffe.Net(old_test_file, old_model, caffe.TEST)\n",
    "if len(new_classes) > 0:\n",
    "    new_test_file = '/home/ubuntu/dstl/models/{:s}/{:s}/test.prototxt'.format(arch, new_infix)\n",
    "    new_model = '/data/output/faster_rcnn_end2end/dstl{:s}_train/{:s}_faster_rcnn_third_iter_1000.caffemodel'.format(new_appendix, arch.lower())\n",
    "    new_net = caffe.Net(new_test_file, new_model, caffe.TEST)"
   ]
  },
  {
   "cell_type": "code",
   "execution_count": null,
   "metadata": {},
   "outputs": [],
   "source": []
  },
  {
   "cell_type": "markdown",
   "metadata": {},
   "source": [
    "Copy the layer parameters from the original network to the new, discarding any parameters that do not 'fit' in the new network."
   ]
  },
  {
   "cell_type": "code",
   "execution_count": null,
   "metadata": {},
   "outputs": [],
   "source": [
    "def copy_data(layer_name):\n",
    "    \"\"\"\n",
    "    inputs:\n",
    "        layer_name: which layer to copy\n",
    "    outputs:\n",
    "        None\n",
    "    \"\"\"\n",
    "    use_new = len(new_classes) > 0:\n",
    "    for c in target_classes:\n",
    "        for i in range(2): # weights and biases\n",
    "            target_param = target_net.params[layer_name][i]\n",
    "            old_param = old_net.params[layer_name][i]\n",
    "            new_param = None\n",
    "            if use_new:\n",
    "                new_param = new_net.params[layer_name][i]\n",
    "                \n",
    "            target_shape = target_param.data.shape\n",
    "            if len(target_shape) > 2:\n",
    "                \n",
    "            "
   ]
  },
  {
   "cell_type": "code",
   "execution_count": null,
   "metadata": {},
   "outputs": [],
   "source": [
    "for layer_name in target_net._layer_names:\n",
    "    try:\n",
    "        if layer_name == 'cls_score' or layer_name == 'bbox_pred':\n",
    "            copy_data(layer_name)\n",
    "        else:\n",
    "            for old_param, target_param in zip(old_net.params[layer_name], target_net.params[layer_name]):\n",
    "                target_param.data[...] = old_param.data\n",
    "    except KeyError:\n",
    "        pass"
   ]
  },
  {
   "cell_type": "code",
   "execution_count": null,
   "metadata": {},
   "outputs": [],
   "source": []
  },
  {
   "cell_type": "markdown",
   "metadata": {},
   "source": [
    "Check to see if the new and original networks are indeed identitical up to the discarding of weights. Unforunately this does not take into account error loaded into `orig_net` due to the absense of layers in the caffemodel weights file."
   ]
  },
  {
   "cell_type": "code",
   "execution_count": null,
   "metadata": {},
   "outputs": [],
   "source": []
  },
  {
   "cell_type": "markdown",
   "metadata": {},
   "source": [
    "Save the output"
   ]
  },
  {
   "cell_type": "code",
   "execution_count": null,
   "metadata": {},
   "outputs": [],
   "source": [
    "filename = '/home/ubuntu/dstl/models/{:s}/{:s}/trained/adapted_for{:s}_from{:s}{:s}.caffemodel'.format(arch, target_infix, target_appendix, old_appendix, new_appendix)\n",
    "# target_net.save(filename)\n",
    "print 'Saved weights file at {:s}'.format(filename)"
   ]
  },
  {
   "cell_type": "markdown",
   "metadata": {},
   "source": [
    "It appears one layer, `rpn_conv/3x3` is not properly initialized from the weights file, so let's inspect the weights file and the network a little more...\n",
    "\n",
    "This seems to be an error on the py_faster_rcnn side."
   ]
  },
  {
   "cell_type": "code",
   "execution_count": null,
   "metadata": {},
   "outputs": [],
   "source": []
  },
  {
   "cell_type": "markdown",
   "metadata": {},
   "source": [
    "Load the .caffemodel file *without* specifying the prototxt"
   ]
  },
  {
   "cell_type": "code",
   "execution_count": null,
   "metadata": {},
   "outputs": [],
   "source": []
  },
  {
   "cell_type": "code",
   "execution_count": null,
   "metadata": {},
   "outputs": [],
   "source": []
  },
  {
   "cell_type": "code",
   "execution_count": null,
   "metadata": {},
   "outputs": [],
   "source": []
  },
  {
   "cell_type": "code",
   "execution_count": null,
   "metadata": {},
   "outputs": [],
   "source": []
  },
  {
   "cell_type": "code",
   "execution_count": null,
   "metadata": {},
   "outputs": [],
   "source": []
  }
 ],
 "metadata": {
  "kernelspec": {
   "display_name": "Python 2",
   "language": "python",
   "name": "python2"
  },
  "language_info": {
   "codemirror_mode": {
    "name": "ipython",
    "version": 2
   },
   "file_extension": ".py",
   "mimetype": "text/x-python",
   "name": "python",
   "nbconvert_exporter": "python",
   "pygments_lexer": "ipython2"
  }
 },
 "nbformat": 4,
 "nbformat_minor": 2
}

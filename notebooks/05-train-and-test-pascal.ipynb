{
 "cells": [
  {
   "cell_type": "markdown",
   "metadata": {},
   "source": [
    "# Train and Test a network for the Pascal VOC data set\n",
    "This notebook trains a network on the Pascal VOC data set and also looks at predictions using the trained models. \n",
    "\n",
    "The path to the data needs to be updated."
   ]
  },
  {
   "cell_type": "code",
   "execution_count": 1,
   "metadata": {
    "collapsed": true
   },
   "outputs": [],
   "source": [
    "import os\n",
    "import sys\n",
    "import pprint\n",
    "\n",
    "import numpy as np\n",
    "import matplotlib\n",
    "matplotlib.use('Agg')\n",
    "%matplotlib inline\n",
    "from matplotlib import pyplot as plt"
   ]
  },
  {
   "cell_type": "code",
   "execution_count": 2,
   "metadata": {},
   "outputs": [
    {
     "name": "stdout",
     "output_type": "stream",
     "text": [
      "Loaded caffe version 1.0.0 from /home/ubuntu/src/py-faster-rcnn/caffe-fast-rcnn/python/caffe.\n"
     ]
    }
   ],
   "source": [
    "def add_path(path):\n",
    "    if path not in sys.path:\n",
    "        sys.path.insert(0, path)\n",
    "\n",
    "# need to point the correct location of the py-faster-rcnn version of the caffe library\n",
    "add_path('/home/ubuntu/src/py-faster-rcnn/caffe-fast-rcnn/python')\n",
    "add_path('/home/ubuntu/src/py-faster-rcnn/lib')\n",
    "import caffe\n",
    "from datasets.factory import get_imdb, list_imdbs\n",
    "from fast_rcnn.test import test_net\n",
    "from fast_rcnn.train import get_training_roidb, train_net\n",
    "from fast_rcnn.config import cfg, cfg_from_file, cfg_from_list, get_output_dir\n",
    "print \"Loaded caffe version {:s} from {:s}.\".format(caffe.__version__, caffe.__path__[0])"
   ]
  },
  {
   "cell_type": "code",
   "execution_count": 3,
   "metadata": {
    "collapsed": true
   },
   "outputs": [],
   "source": [
    "# configure plotting\n",
    "plt.rcParams['image.interpolation'] = 'nearest'\n",
    "plt.rcParams['image.cmap'] = 'gray'\n",
    "plt.rcParams['figure.figsize'] = (10, 10)\n",
    "\n",
    "caffe.set_mode_gpu()"
   ]
  },
  {
   "cell_type": "markdown",
   "metadata": {},
   "source": [
    "Define the directories where to find the data and the models"
   ]
  },
  {
   "cell_type": "code",
   "execution_count": 4,
   "metadata": {
    "collapsed": true
   },
   "outputs": [],
   "source": [
    "this_dir = os.getcwd()\n",
    "data_dir = os.path.join(this_dir, '..', 'data', 'voc')\n",
    "model_dir = os.path.join('/home', 'ubuntu', 'src', 'py-faster-rcnn', 'models', 'pascal_voc', 'ZF', 'faster_rcnn_end2end')"
   ]
  },
  {
   "cell_type": "code",
   "execution_count": 5,
   "metadata": {
    "collapsed": true
   },
   "outputs": [],
   "source": [
    "#this block defines a function to visualize network from prototxt model\n",
    "#install pydot via: sudo apt-get install python-pydot\n",
    "from caffe import draw\n",
    "from caffe.proto import caffe_pb2\n",
    "from google.protobuf import text_format\n",
    "from IPython.display import Image\n",
    "\n",
    "import tempfile as tp\n",
    "\n",
    "def draw_network(model_file, rankdir = 'LR', draw_to_file = False):\n",
    "    net = caffe_pb2.NetParameter()\n",
    "    text_format.Merge(open(model_file).read(), net)\n",
    "    if draw_to_file:\n",
    "        tmp_file_name =  tp.mktemp(dir= os.getcwd()) + \".png\"\n",
    "        draw.draw_net_to_file(caffe_net=net, filename=tmp_file_name)\n",
    "    return draw.draw_net(caffe_net=net,rankdir=rankdir)"
   ]
  },
  {
   "cell_type": "code",
   "execution_count": 6,
   "metadata": {
    "collapsed": true
   },
   "outputs": [],
   "source": [
    "train_file = os.path.join(model_dir, 'train.prototxt')\n",
    "test_file = os.path.join(model_dir, 'test.prototxt')\n",
    "validate_file = os.path.join(model_dir, 'validate.prototxt')\n",
    "\n",
    "# network_im = draw_network(validate_file, draw_to_file= False)\n",
    "# display(Image(network_im))\n",
    "\n",
    "solver_file = os.path.join(model_dir, 'unified_solver.prototxt')"
   ]
  },
  {
   "cell_type": "markdown",
   "metadata": {},
   "source": [
    "Fucntion copied from `train_net` that "
   ]
  },
  {
   "cell_type": "code",
   "execution_count": 7,
   "metadata": {
    "collapsed": true
   },
   "outputs": [],
   "source": [
    "def combined_roidb(imdb_names):\n",
    "    def get_roidb(imdb_name):\n",
    "        imdb = get_imdb(imdb_name)\n",
    "        print 'Loaded dataset `{:s}` for training'.format(imdb.name)\n",
    "        imdb.set_proposal_method(cfg.TRAIN.PROPOSAL_METHOD)\n",
    "        print 'Set proposal method: {:s}'.format(cfg.TRAIN.PROPOSAL_METHOD)\n",
    "        roidb = get_training_roidb(imdb)\n",
    "        return roidb\n",
    "\n",
    "    roidbs = [get_roidb(s) for s in imdb_names.split('+')]\n",
    "    roidb = roidbs[0]\n",
    "    if len(roidbs) > 1:\n",
    "        for r in roidbs[1:]:\n",
    "            roidb.extend(r)\n",
    "        imdb = datasets.imdb.imdb(imdb_names)\n",
    "    else:\n",
    "        imdb = get_imdb(imdb_names)\n",
    "    return imdb, roidb"
   ]
  },
  {
   "cell_type": "code",
   "execution_count": 8,
   "metadata": {},
   "outputs": [
    {
     "name": "stdout",
     "output_type": "stream",
     "text": [
      "Using config /home/ubuntu/src/py-faster-rcnn/experiments/cfgs/faster_rcnn_end2end.yml\n",
      "{'DATA_DIR': '/data',\n",
      " 'DEDUP_BOXES': 0.0625,\n",
      " 'EPS': 1e-14,\n",
      " 'EXP_DIR': 'faster_rcnn_end2end',\n",
      " 'GPU_ID': 0,\n",
      " 'MATLAB': 'matlab',\n",
      " 'MODELS_DIR': '/home/ubuntu/src/py-faster-rcnn/models/pascal_voc',\n",
      " 'PIXEL_MEANS': array([[[ 102.9801,  115.9465,  122.7717]]]),\n",
      " 'RNG_SEED': 3,\n",
      " 'ROOT_DIR': '/home/ubuntu/src/py-faster-rcnn',\n",
      " 'TEST': {'BBOX_REG': True,\n",
      "          'HAS_RPN': True,\n",
      "          'MAX_SIZE': 1000,\n",
      "          'NMS': 0.3,\n",
      "          'PROPOSAL_METHOD': 'selective_search',\n",
      "          'RPN_MIN_SIZE': 16,\n",
      "          'RPN_NMS_THRESH': 0.7,\n",
      "          'RPN_POST_NMS_TOP_N': 128,\n",
      "          'RPN_PRE_NMS_TOP_N': 6000,\n",
      "          'SCALES': [600],\n",
      "          'SVM': False},\n",
      " 'TRAIN': {'ASPECT_GROUPING': True,\n",
      "           'BATCH_SIZE': 128,\n",
      "           'BBOX_INSIDE_WEIGHTS': [1.0, 1.0, 1.0, 1.0],\n",
      "           'BBOX_NORMALIZE_MEANS': [0.0, 0.0, 0.0, 0.0],\n",
      "           'BBOX_NORMALIZE_STDS': [0.1, 0.1, 0.2, 0.2],\n",
      "           'BBOX_NORMALIZE_TARGETS': True,\n",
      "           'BBOX_NORMALIZE_TARGETS_PRECOMPUTED': True,\n",
      "           'BBOX_REG': True,\n",
      "           'BBOX_THRESH': 0.5,\n",
      "           'BG_THRESH_HI': 0.5,\n",
      "           'BG_THRESH_LO': 0.0,\n",
      "           'FG_FRACTION': 0.25,\n",
      "           'FG_THRESH': 0.5,\n",
      "           'HAS_RPN': True,\n",
      "           'IMS_PER_BATCH': 1,\n",
      "           'MAX_SIZE': 1000,\n",
      "           'PROPOSAL_METHOD': 'gt',\n",
      "           'RPN_BATCHSIZE': 256,\n",
      "           'RPN_BBOX_INSIDE_WEIGHTS': [1.0, 1.0, 1.0, 1.0],\n",
      "           'RPN_CLOBBER_POSITIVES': False,\n",
      "           'RPN_FG_FRACTION': 0.5,\n",
      "           'RPN_MIN_SIZE': 16,\n",
      "           'RPN_NEGATIVE_OVERLAP': 0.3,\n",
      "           'RPN_NMS_THRESH': 0.7,\n",
      "           'RPN_POSITIVE_OVERLAP': 0.7,\n",
      "           'RPN_POSITIVE_WEIGHT': -1.0,\n",
      "           'RPN_POST_NMS_TOP_N': 2000,\n",
      "           'RPN_PRE_NMS_TOP_N': 12000,\n",
      "           'SCALES': [600],\n",
      "           'SNAPSHOT_INFIX': '',\n",
      "           'SNAPSHOT_ITERS': 1000,\n",
      "           'USE_FLIPPED': True,\n",
      "           'USE_PREFETCH': False},\n",
      " 'USE_GPU_NMS': True}\n",
      "Loaded dataset `voc_2007_train` for training\n",
      "Set proposal method: gt\n",
      "Appending horizontally-flipped training examples...\n",
      "voc_2007_train gt roidb loaded from /data/cache/voc_2007_train_gt_roidb.pkl\n",
      "done\n",
      "Preparing training data...\n",
      "done\n",
      "Loaded dataset `voc_2007_val` for training\n",
      "Set proposal method: gt\n",
      "Appending horizontally-flipped training examples...\n",
      "voc_2007_val gt roidb loaded from /data/cache/voc_2007_val_gt_roidb.pkl\n",
      "done\n",
      "Preparing training data...\n",
      "done\n",
      "/home/ubuntu/src/py-faster-rcnn/output/faster_rcnn_end2end/voc_2007_train\n"
     ]
    }
   ],
   "source": [
    "cfg_file = os.path.join('/home', 'ubuntu', 'src', 'py-faster-rcnn', 'experiments', 'cfgs', 'faster_rcnn_end2end.yml')\n",
    "cfg_from_file(cfg_file)\n",
    "print('Using config '+cfg_file)\n",
    "pprint.pprint(cfg)\n",
    "# np.random.seed(cfg.RNG_SEED)\n",
    "# caffe.set_random_seed(cfg.RNG_SEED)\n",
    "imdb_train, roidb_train = combined_roidb('voc_2007_train')\n",
    "imdb_val, roidb_val = combined_roidb('voc_2007_val')\n",
    "output_dir = get_output_dir(imdb_train)\n",
    "print output_dir"
   ]
  },
  {
   "cell_type": "code",
   "execution_count": null,
   "metadata": {
    "scrolled": true
   },
   "outputs": [
    {
     "name": "stdout",
     "output_type": "stream",
     "text": [
      "Filtered 0 roidb entries: 5002 -> 5002\n",
      "Filtered 0 roidb entries: 5020 -> 5020\n",
      "Computing bounding-box regression targets...\n",
      "bbox target means:\n",
      "[[ 0.  0.  0.  0.]\n",
      " [ 0.  0.  0.  0.]\n",
      " [ 0.  0.  0.  0.]\n",
      " [ 0.  0.  0.  0.]\n",
      " [ 0.  0.  0.  0.]\n",
      " [ 0.  0.  0.  0.]\n",
      " [ 0.  0.  0.  0.]\n",
      " [ 0.  0.  0.  0.]\n",
      " [ 0.  0.  0.  0.]\n",
      " [ 0.  0.  0.  0.]\n",
      " [ 0.  0.  0.  0.]\n",
      " [ 0.  0.  0.  0.]\n",
      " [ 0.  0.  0.  0.]\n",
      " [ 0.  0.  0.  0.]\n",
      " [ 0.  0.  0.  0.]\n",
      " [ 0.  0.  0.  0.]\n",
      " [ 0.  0.  0.  0.]\n",
      " [ 0.  0.  0.  0.]\n",
      " [ 0.  0.  0.  0.]\n",
      " [ 0.  0.  0.  0.]\n",
      " [ 0.  0.  0.  0.]]\n",
      "[ 0.  0.  0.  0.]\n",
      "bbox target stdevs:\n",
      "[[ 0.1  0.1  0.2  0.2]\n",
      " [ 0.1  0.1  0.2  0.2]\n",
      " [ 0.1  0.1  0.2  0.2]\n",
      " [ 0.1  0.1  0.2  0.2]\n",
      " [ 0.1  0.1  0.2  0.2]\n",
      " [ 0.1  0.1  0.2  0.2]\n",
      " [ 0.1  0.1  0.2  0.2]\n",
      " [ 0.1  0.1  0.2  0.2]\n",
      " [ 0.1  0.1  0.2  0.2]\n",
      " [ 0.1  0.1  0.2  0.2]\n",
      " [ 0.1  0.1  0.2  0.2]\n",
      " [ 0.1  0.1  0.2  0.2]\n",
      " [ 0.1  0.1  0.2  0.2]\n",
      " [ 0.1  0.1  0.2  0.2]\n",
      " [ 0.1  0.1  0.2  0.2]\n",
      " [ 0.1  0.1  0.2  0.2]\n",
      " [ 0.1  0.1  0.2  0.2]\n",
      " [ 0.1  0.1  0.2  0.2]\n",
      " [ 0.1  0.1  0.2  0.2]\n",
      " [ 0.1  0.1  0.2  0.2]\n",
      " [ 0.1  0.1  0.2  0.2]]\n",
      "[ 0.1  0.1  0.2  0.2]\n",
      "Normalizing targets\n",
      "done\n",
      "RoiDataLayer: name_to_top: {'gt_boxes': 2, 'data': 0, 'im_info': 1}\n",
      "RoiDataLayer: name_to_top: {'gt_boxes': 2, 'data': 0, 'im_info': 1}\n",
      "initialized roidb inds\n",
      "initialized roidb inds\n",
      "Solving...\n"
     ]
    }
   ],
   "source": [
    "# pretrained_caffemodel = '/home/ubuntu/src/py-faster-rcnn/data/imagenet_models/ZF.v2.caffemodel'\n",
    "# pretrained_caffemodel = '/home/ubuntu/src/py-faster-rcnn/output/faster_rcnn_end2end/voc_2007_train/zf_faster_rcnn_iter_2000.caffemodel'\n",
    "pretrained_caffemodel = None\n",
    "train_net(solver_file, roidb_train, output_dir, roidb_val=roidb_val,                                                                               \n",
    "          pretrained_model=pretrained_caffemodel,                                                                                \n",
    "          max_iters=10000)     "
   ]
  },
  {
   "cell_type": "code",
   "execution_count": null,
   "metadata": {
    "collapsed": true
   },
   "outputs": [],
   "source": [
    "# caffemodel = '../models/ZF/trained/zf_faster_rcnn_iter_2000.caffemodel'\n",
    "caffemodel = '/home/ubuntu/src/py-faster-rcnn/output/faster_rcnn_end2end/voc_2007_train/zf_faster_rcnn_iter_1000.caffemodel'\n",
    "# caffemodel = pretrained_caffemodel\n",
    "net = caffe.Net(test_file, caffemodel, caffe.TEST)\n",
    "net.name = os.path.splitext(os.path.basename(caffemodel))[0]"
   ]
  },
  {
   "cell_type": "code",
   "execution_count": null,
   "metadata": {
    "collapsed": true
   },
   "outputs": [],
   "source": [
    "imdb = get_imdb('voc_2007_test')\n",
    "test_net(net, imdb, max_per_image=100, vis='store_true', thresh=0.9)"
   ]
  },
  {
   "cell_type": "code",
   "execution_count": null,
   "metadata": {
    "collapsed": true
   },
   "outputs": [],
   "source": [
    "list_imdbs()"
   ]
  },
  {
   "cell_type": "code",
   "execution_count": null,
   "metadata": {
    "collapsed": true
   },
   "outputs": [],
   "source": [
    "print caffe.__path__"
   ]
  },
  {
   "cell_type": "raw",
   "metadata": {
    "collapsed": true
   },
   "source": []
  },
  {
   "cell_type": "code",
   "execution_count": null,
   "metadata": {
    "collapsed": true
   },
   "outputs": [],
   "source": []
  },
  {
   "cell_type": "code",
   "execution_count": null,
   "metadata": {
    "collapsed": true
   },
   "outputs": [],
   "source": []
  }
 ],
 "metadata": {
  "anaconda-cloud": {},
  "kernelspec": {
   "display_name": "Python 2",
   "language": "python",
   "name": "python2"
  },
  "language_info": {
   "codemirror_mode": {
    "name": "ipython",
    "version": 2
   },
   "file_extension": ".py",
   "mimetype": "text/x-python",
   "name": "python",
   "nbconvert_exporter": "python",
   "pygments_lexer": "ipython2",
   "version": "2.7.6"
  }
 },
 "nbformat": 4,
 "nbformat_minor": 1
}

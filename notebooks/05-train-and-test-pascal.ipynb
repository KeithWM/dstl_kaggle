{
 "cells": [
  {
   "cell_type": "markdown",
   "metadata": {},
   "source": [
    "# Train and Test a network for the Pascal VOC data set\n",
    "This notebook trains a network on the Pascal VOC data set and also looks at predictions using the trained models. \n",
    "\n",
    "The path to the data needs to be updated."
   ]
  },
  {
   "cell_type": "code",
   "execution_count": null,
   "metadata": {},
   "outputs": [],
   "source": [
    "import os\n",
    "import sys\n",
    "import pprint\n",
    "\n",
    "import numpy as np\n",
    "import matplotlib\n",
    "matplotlib.use('Agg')\n",
    "%matplotlib inline\n",
    "from matplotlib import pyplot as plt"
   ]
  },
  {
   "cell_type": "code",
   "execution_count": null,
   "metadata": {},
   "outputs": [],
   "source": [
    "def add_path(path):\n",
    "    if path not in sys.path:\n",
    "        sys.path.insert(0, path)\n",
    "\n",
    "# need to point the correct location of the py-faster-rcnn version of the caffe library\n",
    "add_path('/home/ubuntu/src/py-faster-rcnn/caffe-fast-rcnn/python')\n",
    "add_path('/home/ubuntu/src/py-faster-rcnn/lib')\n",
    "import caffe\n",
    "from datasets.factory import get_imdb, list_imdbs\n",
    "from fast_rcnn.test import test_net\n",
    "from fast_rcnn.train import get_training_roidb, train_net\n",
    "from fast_rcnn.config import cfg, cfg_from_file, cfg_from_list, get_output_dir\n",
    "print \"Loaded caffe version {:s} from {:s}.\".format(caffe.__version__, caffe.__path__[0])"
   ]
  },
  {
   "cell_type": "code",
   "execution_count": null,
   "metadata": {},
   "outputs": [],
   "source": [
    "# configure plotting\n",
    "plt.rcParams['image.interpolation'] = 'nearest'\n",
    "plt.rcParams['image.cmap'] = 'gray'\n",
    "plt.rcParams['figure.figsize'] = (10, 10)\n",
    "\n",
    "caffe.set_mode_gpu()"
   ]
  },
  {
   "cell_type": "markdown",
   "metadata": {},
   "source": [
    "Define the directories where to find the data and the models"
   ]
  },
  {
   "cell_type": "code",
   "execution_count": null,
   "metadata": {},
   "outputs": [],
   "source": [
    "this_dir = os.getcwd()\n",
    "data_dir = os.path.join(this_dir, '..', 'data', 'voc')\n",
    "arch = 'VGG16'\n",
    "model_dir = os.path.join('/home', 'ubuntu', 'src', 'py-faster-rcnn', 'models', 'pascal_voc', arch, 'faster_rcnn_end2end')"
   ]
  },
  {
   "cell_type": "code",
   "execution_count": null,
   "metadata": {},
   "outputs": [],
   "source": [
    "#this block defines a function to visualize network from prototxt model\n",
    "#install pydot via: sudo apt-get install python-pydot\n",
    "from caffe import draw\n",
    "from caffe.proto import caffe_pb2\n",
    "from google.protobuf import text_format\n",
    "from IPython.display import Image\n",
    "\n",
    "import tempfile as tp\n",
    "\n",
    "def draw_network(model_file, rankdir = 'LR', draw_to_file = False):\n",
    "    net = caffe_pb2.NetParameter()\n",
    "    text_format.Merge(open(model_file).read(), net)\n",
    "    if draw_to_file:\n",
    "        tmp_file_name =  tp.mktemp(dir= os.getcwd()) + \".png\"\n",
    "        draw.draw_net_to_file(caffe_net=net, filename=tmp_file_name)\n",
    "    return draw.draw_net(caffe_net=net,rankdir=rankdir)"
   ]
  },
  {
   "cell_type": "code",
   "execution_count": null,
   "metadata": {},
   "outputs": [],
   "source": [
    "train_file = os.path.join(model_dir, 'train.prototxt')\n",
    "test_file = os.path.join(model_dir, 'test.prototxt')\n",
    "validate_file = os.path.join(model_dir, 'validate.prototxt')\n",
    "\n",
    "# network_im = draw_network(validate_file, draw_to_file= False)\n",
    "# display(Image(network_im))\n",
    "\n",
    "solver_file = os.path.join(model_dir, 'unified_solver.prototxt')\n",
    "print train_file"
   ]
  },
  {
   "cell_type": "markdown",
   "metadata": {},
   "source": [
    "Fucntion copied from `train_net` that returned imdb and roidb combined"
   ]
  },
  {
   "cell_type": "code",
   "execution_count": null,
   "metadata": {},
   "outputs": [],
   "source": [
    "def combined_roidb(imdb_names):\n",
    "    def get_roidb(imdb_name):\n",
    "        imdb = get_imdb(imdb_name)\n",
    "        print 'Loaded dataset `{:s}` for training'.format(imdb.name)\n",
    "        imdb.set_proposal_method(cfg.TRAIN.PROPOSAL_METHOD)\n",
    "        print 'Set proposal method: {:s}'.format(cfg.TRAIN.PROPOSAL_METHOD)\n",
    "        roidb = get_training_roidb(imdb)\n",
    "        return roidb\n",
    "\n",
    "    roidbs = [get_roidb(s) for s in imdb_names.split('+')]\n",
    "    roidb = roidbs[0]\n",
    "    if len(roidbs) > 1:\n",
    "        for r in roidbs[1:]:\n",
    "            roidb.extend(r)\n",
    "        imdb = datasets.imdb.imdb(imdb_names)\n",
    "    else:\n",
    "        imdb = get_imdb(imdb_names)\n",
    "    return imdb, roidb"
   ]
  },
  {
   "cell_type": "code",
   "execution_count": null,
   "metadata": {},
   "outputs": [],
   "source": [
    "cfg_file = os.path.join('/home', 'ubuntu', 'src', 'py-faster-rcnn', 'experiments', 'cfgs', 'faster_rcnn_end2end.yml')\n",
    "cfg_from_file(cfg_file)\n",
    "print('Using config '+cfg_file)\n",
    "pprint.pprint(cfg)\n",
    "# np.random.seed(cfg.RNG_SEED)\n",
    "# caffe.set_random_seed(cfg.RNG_SEED)\n",
    "imdb_train, roidb_train = combined_roidb('voc_2007_train')\n",
    "imdb_val, roidb_val = combined_roidb('voc_2007_val')\n",
    "output_dir = get_output_dir(imdb_train)\n",
    "print output_dir"
   ]
  },
  {
   "cell_type": "code",
   "execution_count": null,
   "metadata": {},
   "outputs": [],
   "source": [
    "pretrained_caffemodel = None\n",
    "if False:\n",
    "    train_net(solver_file, roidb_train, output_dir, roidb_val=roidb_val,                                                                               \n",
    "              pretrained_model=pretrained_caffemodel,                                                                                \n",
    "              max_iters=10000)     "
   ]
  },
  {
   "cell_type": "code",
   "execution_count": null,
   "metadata": {},
   "outputs": [],
   "source": [
    "caffemodel = '/home/ubuntu/src/py-faster-rcnn/data/faster_rcnn_models/{:s}_faster_rcnn_final.caffemodel'.format(arch)\n",
    "# caffemodel = pretrained_caffemodel\n",
    "net = caffe.Net(test_file, caffemodel, caffe.TEST)\n",
    "net.name = os.path.splitext(os.path.basename(caffemodel))[0]"
   ]
  },
  {
   "cell_type": "code",
   "execution_count": null,
   "metadata": {},
   "outputs": [],
   "source": [
    "imdb = get_imdb('voc_2007_test')\n",
    "test_net(net, imdb, max_per_image=100, max_im=None, vis='store_true', thresh=0.5)"
   ]
  },
  {
   "cell_type": "code",
   "execution_count": null,
   "metadata": {},
   "outputs": [],
   "source": []
  },
  {
   "cell_type": "code",
   "execution_count": null,
   "metadata": {},
   "outputs": [],
   "source": []
  },
  {
   "cell_type": "raw",
   "metadata": {},
   "source": []
  },
  {
   "cell_type": "code",
   "execution_count": null,
   "metadata": {},
   "outputs": [],
   "source": []
  },
  {
   "cell_type": "code",
   "execution_count": null,
   "metadata": {},
   "outputs": [],
   "source": []
  }
 ],
 "metadata": {
  "anaconda-cloud": {},
  "kernelspec": {
   "display_name": "Python 2",
   "language": "python",
   "name": "python2"
  },
  "language_info": {
   "codemirror_mode": {
    "name": "ipython",
    "version": 2
   },
   "file_extension": ".py",
   "mimetype": "text/x-python",
   "name": "python",
   "nbconvert_exporter": "python",
   "pygments_lexer": "ipython2"
  }
 },
 "nbformat": 4,
 "nbformat_minor": 1
}

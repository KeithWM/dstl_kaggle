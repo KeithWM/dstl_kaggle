{
 "cells": [
  {
   "cell_type": "markdown",
   "metadata": {},
   "source": [
    "# Adapt pascal_voc network parameters for dstl case\n",
    "In this notebook the pretrained Pascal_VOC model is adapted so that it can be used in transfer learning for the dstl case. This involves discarding the parameters involved in predicting classes 11-21 in the original network, as we have only 10 classes (+1 background)."
   ]
  },
  {
   "cell_type": "code",
   "execution_count": null,
   "metadata": {},
   "outputs": [],
   "source": [
    "import os\n",
    "import sys\n",
    "import pprint\n",
    "\n",
    "import numpy as np\n",
    "import matplotlib\n",
    "matplotlib.use('Agg')\n",
    "%matplotlib inline\n",
    "from matplotlib import pyplot as plt"
   ]
  },
  {
   "cell_type": "code",
   "execution_count": null,
   "metadata": {},
   "outputs": [],
   "source": [
    "def add_path(path):\n",
    "    if path not in sys.path:\n",
    "        sys.path.insert(0, path)\n",
    "\n",
    "# need to point the correct location of the py-faster-rcnn version of the caffe library\n",
    "add_path('/home/ubuntu/src/py-faster-rcnn/caffe-fast-rcnn/python')\n",
    "add_path('/home/ubuntu/src/py-faster-rcnn/lib')\n",
    "import caffe\n",
    "from datasets.factory import get_imdb, list_imdbs\n",
    "from fast_rcnn.test import test_net\n",
    "from fast_rcnn.train import get_training_roidb, train_net\n",
    "from fast_rcnn.config import cfg, cfg_from_file, cfg_from_list, get_output_dir\n",
    "print \"Loaded caffe version {:s} from {:s}.\".format(caffe.__version__, caffe.__path__[0])"
   ]
  },
  {
   "cell_type": "markdown",
   "metadata": {},
   "source": [
    "Load the original model with weights and the new model without weights."
   ]
  },
  {
   "cell_type": "code",
   "execution_count": null,
   "metadata": {},
   "outputs": [],
   "source": [
    "orig_test_file = '/home/ubuntu/src/py-faster-rcnn/models/pascal_voc/ZF/faster_rcnn_end2end/test.prototxt'\n",
    "orig_model = '/home/ubuntu/src/py-faster-rcnn/data/faster_rcnn_models/ZF_faster_rcnn_final.caffemodel'\n",
    "orig_net = caffe.Net(orig_test_file, orig_model, caffe.TEST)"
   ]
  },
  {
   "cell_type": "code",
   "execution_count": null,
   "metadata": {},
   "outputs": [],
   "source": [
    "test_file = '/home/ubuntu/dstl/models/ZF/test.prototxt'\n",
    "net = caffe.Net(test_file, caffe.TEST)"
   ]
  },
  {
   "cell_type": "markdown",
   "metadata": {},
   "source": [
    "Copy the layer parameters from the original network to the new, discarding any parameters that do not 'fit' in the new network."
   ]
  },
  {
   "cell_type": "code",
   "execution_count": null,
   "metadata": {},
   "outputs": [],
   "source": [
    "def copy_data(orig_data, data):\n",
    "    indices = [slice(0, I) for I in data.shape]\n",
    "    data[...] = orig_data[indices]"
   ]
  },
  {
   "cell_type": "code",
   "execution_count": null,
   "metadata": {},
   "outputs": [],
   "source": [
    "for layer_name in net._layer_names:\n",
    "    try:\n",
    "        for orig_data, data in zip(orig_net.params[layer_name], net.params[layer_name]):\n",
    "            copy_data(orig_data.data, data.data)\n",
    "        if data.data.size < orig_data.data.size:\n",
    "            print \"Subsampled parameters for layer {:s}\".format(layer_name)\n",
    "    except KeyError:\n",
    "        pass"
   ]
  },
  {
   "cell_type": "code",
   "execution_count": null,
   "metadata": {},
   "outputs": [],
   "source": [
    "abs(orig_net.params['rpn_conv/3x3'][0].data - net.params['rpn_conv/3x3'][0].data).sum()"
   ]
  },
  {
   "cell_type": "markdown",
   "metadata": {},
   "source": [
    "Check to see if the new and original networks are indeed identitical up to the discarding of weights"
   ]
  },
  {
   "cell_type": "code",
   "execution_count": null,
   "metadata": {},
   "outputs": [],
   "source": [
    "def show_diff(net0, net1):\n",
    "    for layer_name in net0._layer_names:\n",
    "        try:\n",
    "            weights0 = net0.params[layer_name][0].data\n",
    "            weights1 = net1.params[layer_name][0].data\n",
    "            biases0 = net0.params[layer_name][1].data\n",
    "            biases1 = net1.params[layer_name][1].data\n",
    "            indices = [slice(0, I) for I in net1.params[layer_name][0].data.shape]\n",
    "            weights0_trunc = weights0[indices]\n",
    "            indices = [slice(0, I) for I in net1.params[layer_name][1].data.shape]\n",
    "            biases0_trunc = biases0[indices]\n",
    "\n",
    "            diff_weights = (weights0_trunc - weights1).std()\n",
    "            diff_biases = abs(biases0_trunc - biases1).sum()\n",
    "\n",
    "            print layer_name, diff_weights, diff_biases\n",
    "        except KeyError:\n",
    "            pass\n",
    "        \n",
    "show_diff(orig_net, net)"
   ]
  },
  {
   "cell_type": "markdown",
   "metadata": {},
   "source": [
    "Save the output"
   ]
  },
  {
   "cell_type": "code",
   "execution_count": null,
   "metadata": {},
   "outputs": [],
   "source": [
    "net.save('/home/ubuntu/dstl/models/ZF/trained/adapted_from_ZF_faster_rcnn_final.caffemodel')"
   ]
  },
  {
   "cell_type": "code",
   "execution_count": null,
   "metadata": {},
   "outputs": [],
   "source": [
    "model = orig_model\n",
    "net = caffe.Net(orig_test_file, model, caffe.TEST)\n",
    "net_redo = caffe.Net(orig_test_file, model, caffe.TEST)\n",
    "# model = '/home/ubuntu/dstl/models/ZF/trained/adapted_from_ZF_faster_rcnn_final.caffemodel'\n",
    "# net = caffe.Net(test_file, model, caffe.TEST)\n",
    "# net_redo = caffe.Net(test_file, model, caffe.TEST)\n",
    "\n",
    "for layer_name in net._layer_names:\n",
    "    try:\n",
    "        diff = abs(net.params[layer_name][0].data - net_redo.params[layer_name][0].data).sum()\n",
    "        print layer_name, diff\n",
    "    except KeyError:\n",
    "        pass"
   ]
  },
  {
   "cell_type": "code",
   "execution_count": null,
   "metadata": {},
   "outputs": [],
   "source": [
    "from caffe.proto import caffe_pb2\n",
    "\n",
    "net_param = caffe_pb2.NetParameter()\n",
    "net_str = open(orig_model, 'r').read()\n",
    "net_param.ParseFromString(net_str)"
   ]
  },
  {
   "cell_type": "code",
   "execution_count": null,
   "metadata": {},
   "outputs": [],
   "source": []
  },
  {
   "cell_type": "code",
   "execution_count": null,
   "metadata": {},
   "outputs": [],
   "source": [
    "for layer_from_weights in net_param.layer:\n",
    "    layer_name = layer_from_weights.name\n",
    "    if layer_name in [net_layer_name for net_layer_name in orig_net._layer_names]:\n",
    "        pass\n",
    "#         print layer_name, \"found\"\n",
    "    else:\n",
    "        print layer_name, \"not found\"\n",
    "print \"===\"\n",
    "for layer_name in orig_net._layer_names:\n",
    "    if layer_name in [layer.name for layer in net_param.layer]:\n",
    "#         print layer_name, \"found\" \n",
    "        pass\n",
    "    else:\n",
    "#         print layer_name, \"not found\"  \n",
    "        if layer_name in orig_net.params:\n",
    "            print layer_name, \"has data\""
   ]
  },
  {
   "cell_type": "code",
   "execution_count": null,
   "metadata": {},
   "outputs": [],
   "source": [
    "for layer_from_weights in net_param.layer:\n",
    "    print layer_from_weights.name"
   ]
  },
  {
   "cell_type": "code",
   "execution_count": null,
   "metadata": {},
   "outputs": [],
   "source": [
    "    data\n",
    "    conv1\n",
    "    relu1\n",
    "    norm1\n",
    "    pool1\n",
    "    conv2\n",
    "    relu2\n",
    "    norm2\n",
    "    pool2\n",
    "    conv3\n",
    "    relu3\n",
    "    conv4\n",
    "    relu4\n",
    "    conv5\n",
    "    relu5\n",
    "    conv5_relu5_0_split\n",
    "    roi_pool_conv5\n",
    "    fc6\n",
    "    relu6\n",
    "    drop6\n",
    "    fc7\n",
    "    relu7\n",
    "    drop7\n",
    "    fc7_drop7_0_split\n",
    "    cls_score\n",
    "    bbox_pred\n",
    "    loss_cls\n",
    "    loss_bbox\n",
    "    rpn_conv1\n",
    "    rpn_relu1\n",
    "    rpn_conv1_rpn_relu1_0_split\n",
    "    rpn_cls_score\n",
    "    rpn_bbox_pred\n",
    "    silence_rpn_cls_score\n",
    "    silence_rpn_bbox_pred"
   ]
  }
 ],
 "metadata": {
  "kernelspec": {
   "display_name": "Python 2",
   "language": "python",
   "name": "python2"
  },
  "language_info": {
   "codemirror_mode": {
    "name": "ipython",
    "version": 2
   },
   "file_extension": ".py",
   "mimetype": "text/x-python",
   "name": "python",
   "nbconvert_exporter": "python",
   "pygments_lexer": "ipython2"
  }
 },
 "nbformat": 4,
 "nbformat_minor": 2
}

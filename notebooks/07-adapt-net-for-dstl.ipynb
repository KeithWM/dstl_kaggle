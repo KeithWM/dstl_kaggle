{
 "cells": [
  {
   "cell_type": "markdown",
   "metadata": {},
   "source": [
    "In this notebook two networks are compared as a way of testing how the learning is going. In particular this will show which layers are active learning and which are not."
   ]
  },
  {
   "cell_type": "code",
   "execution_count": null,
   "metadata": {},
   "outputs": [],
   "source": [
    "import os\n",
    "import sys\n",
    "import pprint\n",
    "\n",
    "import numpy as np\n",
    "import matplotlib\n",
    "matplotlib.use('Agg')\n",
    "%matplotlib inline\n",
    "from matplotlib import pyplot as plt"
   ]
  },
  {
   "cell_type": "code",
   "execution_count": null,
   "metadata": {},
   "outputs": [],
   "source": [
    "def add_path(path):\n",
    "    if path not in sys.path:\n",
    "        sys.path.insert(0, path)\n",
    "\n",
    "# need to point the correct location of the py-faster-rcnn version of the caffe library\n",
    "add_path('/home/ubuntu/src/py-faster-rcnn/caffe-fast-rcnn/python')\n",
    "add_path('/home/ubuntu/src/py-faster-rcnn/lib')\n",
    "import caffe\n",
    "from datasets.factory import get_imdb, list_imdbs\n",
    "from fast_rcnn.test import test_net\n",
    "from fast_rcnn.train import get_training_roidb, train_net\n",
    "from fast_rcnn.config import cfg, cfg_from_file, cfg_from_list, get_output_dir\n",
    "print \"Loaded caffe version {:s} from {:s}.\".format(caffe.__version__, caffe.__path__[0])"
   ]
  },
  {
   "cell_type": "code",
   "execution_count": null,
   "metadata": {},
   "outputs": [],
   "source": [
    "test_file = '/home/ubuntu/dstl/models/ZF/test.prototxt'\n",
    "pretrained_file = '/home/ubuntu/src/py-faster-rcnn/data/imagenet_models/ZF.v2.caffemodel'\n",
    "trained_file = '/home/ubuntu/src/py-faster-rcnn/output/faster_rcnn_end2end/dstl_train/zf_faster_rcnn_transfer_no_rpn_iter_100.caffemodel'\n",
    "trained2_file = '/home/ubuntu/src/py-faster-rcnn/output/faster_rcnn_end2end/dstl_train/zf_faster_rcnn_transfer_no_rpn_iter_200.caffemodel'\n",
    "\n",
    "def load_net(test_file, weights_file):\n",
    "#     np.random.seed(cfg.RNG_SEED)\n",
    "#     caffe.set_random_seed(cfg.RNG_SEED)\n",
    "    net = caffe.Net(test_file, weights_file, caffe.TEST)\n",
    "    return net\n",
    "\n",
    "pretrained_net = load_net(test_file, pretrained_file)\n",
    "pretrained_net_redo = load_net(test_file, pretrained_file)\n",
    "trained_net = load_net(test_file, trained_file)\n",
    "trained_net_redo = load_net(test_file, trained_file)\n",
    "trained2_net = load_net(test_file, trained2_file)"
   ]
  },
  {
   "cell_type": "code",
   "execution_count": null,
   "metadata": {},
   "outputs": [],
   "source": [
    "diff_layers = []\n",
    "for layer, layer_name in zip(pretrained_net.layers, pretrained_net._layer_names):\n",
    "    try:\n",
    "        pretrained_weights = pretrained_net.params[layer_name][0].data\n",
    "        trained_weights = trained_net.params[layer_name][0].data\n",
    "        diff0 = abs(pretrained_weights - trained_weights).sum()\n",
    "        pretrained_biases = pretrained_net.params[layer_name][1].data\n",
    "        trained_biases = trained_net.params[layer_name][1].data\n",
    "        diff1 = abs(pretrained_biases - trained_biases).sum()\n",
    "        if diff0 + diff1:\n",
    "            print \"Difference for layer {:s} of type {:s}:\\n{:f}, {:f}\".format(layer_name, layer.type, diff0, diff1)\n",
    "            print pretrained_weights.sum()\n",
    "            diff_layers.append(layer_name)\n",
    "    except KeyError:\n",
    "#         print \"Layers {:s} does not have data\".format(layer_name)\n",
    "        pass\n",
    "print diff_layers"
   ]
  },
  {
   "cell_type": "code",
   "execution_count": null,
   "metadata": {},
   "outputs": [],
   "source": [
    "layer_name = 'rpn_conv/3x3'\n",
    "pretrained_weights = pretrained_net.params[layer_name][0].data\n",
    "trained_weights = trained_net.params[layer_name][0].data\n",
    "print pretrained_weights.shape, trained_weights.shape"
   ]
  },
  {
   "cell_type": "code",
   "execution_count": null,
   "metadata": {},
   "outputs": [],
   "source": [
    "orig_test_file = '/home/ubuntu/src/py-faster-rcnn/models/pascal_voc/ZF/faster_rcnn_end2end/test.prototxt'\n",
    "orig_file = '/home/ubuntu/src/py-faster-rcnn/data/imagenet_models/ZF.v2.caffemodel'\n",
    "orig_net = load_net(orig_test_file, orig_file)\n",
    "orig_net_redo = load_net(orig_test_file, orig_file)"
   ]
  },
  {
   "cell_type": "code",
   "execution_count": null,
   "metadata": {},
   "outputs": [],
   "source": [
    "def show_diff(net0, net1):\n",
    "    for layer_name in diff_layers:\n",
    "        weights0 = net0.params[layer_name][0].data\n",
    "        weights1 = net1.params[layer_name][0].data\n",
    "        biases0 = net0.params[layer_name][1].data\n",
    "        biases1 = net1.params[layer_name][1].data\n",
    "        indices = [slice(0, I) for I in net1.params[layer_name][0].data.shape]\n",
    "        weights0_trunc = weights0[indices]\n",
    "        indices = [slice(0, I) for I in net1.params[layer_name][1].data.shape]\n",
    "        biases0_trunc = biases0[indices]\n",
    "        \n",
    "        diff_weights = (weights0_trunc - weights1).std()\n",
    "        diff_biases = abs(biases0_trunc - biases1).sum()\n",
    "        \n",
    "        size0 = net0.params[layer_name][0].data.size\n",
    "        diff_weights_norm = diff_weights/np.sqrt(2) - .01\n",
    "        print layer_name, diff_weights, diff_weights_norm, diff_biases, weights0.std()\n",
    "        \n",
    "show_diff(trained_net, trained2_net)"
   ]
  },
  {
   "cell_type": "code",
   "execution_count": null,
   "metadata": {},
   "outputs": [],
   "source": []
  },
  {
   "cell_type": "code",
   "execution_count": null,
   "metadata": {},
   "outputs": [],
   "source": []
  },
  {
   "cell_type": "code",
   "execution_count": null,
   "metadata": {},
   "outputs": [],
   "source": []
  }
 ],
 "metadata": {
  "kernelspec": {
   "display_name": "Python 2",
   "language": "python",
   "name": "python2"
  },
  "language_info": {
   "codemirror_mode": {
    "name": "ipython",
    "version": 2
   },
   "file_extension": ".py",
   "mimetype": "text/x-python",
   "name": "python",
   "nbconvert_exporter": "python",
   "pygments_lexer": "ipython2"
  }
 },
 "nbformat": 4,
 "nbformat_minor": 2
}

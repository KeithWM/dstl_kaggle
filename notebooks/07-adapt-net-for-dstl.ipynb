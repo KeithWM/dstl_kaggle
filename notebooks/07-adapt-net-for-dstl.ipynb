{
 "cells": [
  {
   "cell_type": "markdown",
   "metadata": {},
   "source": [
    "# Adapt pascal_voc network parameters for dstl case\n",
    "In this notebook the pretrained Pascal_VOC model is adapted so that it can be used in transfer learning for the dstl case. This involves discarding the parameters involved in predicting classes 11-21 in the original network, as we have only 10 classes (+1 background)."
   ]
  },
  {
   "cell_type": "code",
   "execution_count": null,
   "metadata": {},
   "outputs": [],
   "source": [
    "import os\n",
    "import sys\n",
    "import pprint\n",
    "\n",
    "import numpy as np\n",
    "import matplotlib\n",
    "matplotlib.use('Agg')\n",
    "%matplotlib inline\n",
    "from matplotlib import pyplot as plt"
   ]
  },
  {
   "cell_type": "code",
   "execution_count": null,
   "metadata": {},
   "outputs": [],
   "source": [
    "def add_path(path):\n",
    "    if path not in sys.path:\n",
    "        sys.path.insert(0, path)\n",
    "\n",
    "# need to point the correct location of the py-faster-rcnn version of the caffe library\n",
    "add_path('/home/ubuntu/src/py-faster-rcnn/caffe-fast-rcnn/python')\n",
    "add_path('/home/ubuntu/src/py-faster-rcnn/lib')\n",
    "import caffe\n",
    "from datasets.factory import get_imdb, list_imdbs\n",
    "from fast_rcnn.test import test_net\n",
    "from fast_rcnn.train import get_training_roidb, train_net\n",
    "from fast_rcnn.config import cfg, cfg_from_file, cfg_from_list, get_output_dir\n",
    "print \"Loaded caffe version {:s} from {:s}.\".format(caffe.__version__, caffe.__path__[0])"
   ]
  },
  {
   "cell_type": "markdown",
   "metadata": {},
   "source": [
    "Load the original model with weights and the new model without weights."
   ]
  },
  {
   "cell_type": "code",
   "execution_count": null,
   "metadata": {},
   "outputs": [],
   "source": [
    "classes = (7, 8, 9)\n",
    "arch = 'VGG16'\n",
    "appendix = '' # This will codify which classes to train (if not all, in which case this string should be empty)\n",
    "infix = '.' # for directories\n",
    "if classes is not None:\n",
    "    appendix = '_'+''.join(['{:d}'.format(c) for c in classes])\n",
    "    infix = '{:d}'.format(len(classes))+'_classes'\n",
    "\n",
    "print infix, appendix"
   ]
  },
  {
   "cell_type": "code",
   "execution_count": null,
   "metadata": {},
   "outputs": [],
   "source": [
    "orig_test_file = '/home/ubuntu/src/py-faster-rcnn/models/pascal_voc/{:s}/faster_rcnn_end2end/test.prototxt'.format(arch)\n",
    "orig_model = '/home/ubuntu/src/py-faster-rcnn/data/faster_rcnn_models/{:s}_faster_rcnn_final.caffemodel'.format(arch)\n",
    "orig_net = caffe.Net(orig_test_file, orig_model, caffe.TEST)"
   ]
  },
  {
   "cell_type": "code",
   "execution_count": null,
   "metadata": {},
   "outputs": [],
   "source": [
    "test_file = '/home/ubuntu/dstl/models/{:s}/{:s}/test.prototxt'.format(arch, infix)\n",
    "net = caffe.Net(test_file, caffe.TEST)"
   ]
  },
  {
   "cell_type": "markdown",
   "metadata": {},
   "source": [
    "Copy the layer parameters from the original network to the new, discarding any parameters that do not 'fit' in the new network."
   ]
  },
  {
   "cell_type": "code",
   "execution_count": null,
   "metadata": {},
   "outputs": [],
   "source": [
    "def copy_data(orig_data, data):\n",
    "    indices = [slice(0, I) for I in data.shape]\n",
    "    data[...] = orig_data[indices]"
   ]
  },
  {
   "cell_type": "code",
   "execution_count": null,
   "metadata": {},
   "outputs": [],
   "source": [
    "for layer_name in net._layer_names:\n",
    "    try:\n",
    "        for orig_data, data in zip(orig_net.params[layer_name], net.params[layer_name]):\n",
    "            copy_data(orig_data.data, data.data)\n",
    "            print layer_name\n",
    "        if data.data.size < orig_data.data.size:\n",
    "            print \"Subsampled parameters for layer {:s}\".format(layer_name)\n",
    "    except KeyError:\n",
    "        pass"
   ]
  },
  {
   "cell_type": "code",
   "execution_count": null,
   "metadata": {},
   "outputs": [],
   "source": [
    "abs(orig_net.params['rpn_conv/3x3'][0].data - net.params['rpn_conv/3x3'][0].data).sum()"
   ]
  },
  {
   "cell_type": "markdown",
   "metadata": {},
   "source": [
    "Check to see if the new and original networks are indeed identitical up to the discarding of weights. Unforunately this does not take into account error loaded into `orig_net` due to the absense of layers in the caffemodel weights file."
   ]
  },
  {
   "cell_type": "code",
   "execution_count": null,
   "metadata": {},
   "outputs": [],
   "source": [
    "def show_diff(net0, net1):\n",
    "    for layer_name in net0._layer_names:\n",
    "        try:\n",
    "            weights0 = net0.params[layer_name][0].data\n",
    "            weights1 = net1.params[layer_name][0].data\n",
    "            biases0 = net0.params[layer_name][1].data\n",
    "            biases1 = net1.params[layer_name][1].data\n",
    "            indices = [slice(0, I) for I in net1.params[layer_name][0].data.shape]\n",
    "            weights0_trunc = weights0[indices]\n",
    "            indices = [slice(0, I) for I in net1.params[layer_name][1].data.shape]\n",
    "            biases0_trunc = biases0[indices]\n",
    "\n",
    "            diff_weights = (weights0_trunc - weights1).std()\n",
    "            diff_biases = abs(biases0_trunc - biases1).sum()\n",
    "\n",
    "            print layer_name, diff_weights, diff_biases\n",
    "        except KeyError:\n",
    "            pass\n",
    "        \n",
    "show_diff(orig_net, net)"
   ]
  },
  {
   "cell_type": "markdown",
   "metadata": {},
   "source": [
    "Save the output"
   ]
  },
  {
   "cell_type": "code",
   "execution_count": null,
   "metadata": {},
   "outputs": [],
   "source": [
    "filename = '/home/ubuntu/dstl/models/{:s}/{:s}/trained/adapted_from_{:s}_faster_rcnn_final.caffemodel'.format(arch, infix, arch)\n",
    "net.save(filename)\n",
    "print 'Saved weights file at {:s}'.format(filename)"
   ]
  },
  {
   "cell_type": "markdown",
   "metadata": {},
   "source": [
    "It appears one layer, `rpn_conv/3x3` is not properly initialized from the weights file, so let's inspect the weights file and the network a little more...\n",
    "\n",
    "This seems to be an error on the py_faster_rcnn side."
   ]
  },
  {
   "cell_type": "code",
   "execution_count": null,
   "metadata": {},
   "outputs": [],
   "source": [
    "model = orig_model\n",
    "net = caffe.Net(orig_test_file, model, caffe.TEST)\n",
    "net_redo = caffe.Net(orig_test_file, model, caffe.TEST)\n",
    "# model = '/home/ubuntu/dstl/models/{:s}/trained/adapted_from_{:s}_faster_rcnn_final.caffemodel'.format(arch, arch)\n",
    "# net = caffe.Net(test_file, model, caffe.TEST)\n",
    "# net_redo = caffe.Net(test_file, model, caffe.TEST)\n",
    "\n",
    "for layer_name in net._layer_names:\n",
    "    try:\n",
    "        diff = abs(net.params[layer_name][0].data - net_redo.params[layer_name][0].data).sum()\n",
    "        print layer_name, diff\n",
    "    except KeyError:\n",
    "        pass"
   ]
  },
  {
   "cell_type": "code",
   "execution_count": null,
   "metadata": {},
   "outputs": [],
   "source": [
    "from caffe.proto import caffe_pb2\n",
    "\n",
    "net_param = caffe_pb2.NetParameter()\n",
    "net_str = open(orig_model, 'r').read()\n",
    "net_param.ParseFromString(net_str)"
   ]
  },
  {
   "cell_type": "code",
   "execution_count": null,
   "metadata": {},
   "outputs": [],
   "source": []
  },
  {
   "cell_type": "code",
   "execution_count": null,
   "metadata": {},
   "outputs": [],
   "source": [
    "for layer_from_weights in net_param.layer:\n",
    "    layer_name = layer_from_weights.name\n",
    "    if layer_name in [net_layer_name for net_layer_name in orig_net._layer_names]:\n",
    "        pass\n",
    "#         print layer_name, \"found\"\n",
    "    else:\n",
    "        print layer_name, \"not found\"\n",
    "print \"===\"\n",
    "for layer_name in orig_net._layer_names:\n",
    "    if layer_name in [layer.name for layer in net_param.layer]:\n",
    "        print layer_name, \"found\" \n",
    "        pass\n",
    "    else:\n",
    "        print layer_name, \"not found\"  \n",
    "        if layer_name in orig_net.params:\n",
    "            print layer_name, \"should have data!!!\""
   ]
  },
  {
   "cell_type": "code",
   "execution_count": null,
   "metadata": {},
   "outputs": [],
   "source": [
    "for layer_from_weights in net_param.layer:\n",
    "    print layer_from_weights.name"
   ]
  },
  {
   "cell_type": "code",
   "execution_count": null,
   "metadata": {},
   "outputs": [],
   "source": [
    "VGG_16_test_file = '/home/ubuntu/src/py-faster-rcnn/models/pascal_voc/VGG16/faster_rcnn_end2end/test.prototxt'\n",
    "VGG_16_model = '/home/ubuntu/src/py-faster-rcnn/data/faster_rcnn_models/VGG16_faster_rcnn_final.caffemodel'\n",
    "VGG_16_net = caffe.Net(VGG_16_test_file, VGG_16_model, caffe.TEST)"
   ]
  },
  {
   "cell_type": "code",
   "execution_count": null,
   "metadata": {},
   "outputs": [],
   "source": [
    "VGG_16_net_param = caffe_pb2.NetParameter()\n",
    "VGG_16_net_str = open(VGG_16_model, 'r').read()\n",
    "VGG_16_net_param.ParseFromString(VGG_16_net_str)"
   ]
  },
  {
   "cell_type": "code",
   "execution_count": null,
   "metadata": {},
   "outputs": [],
   "source": [
    "for layer_name in VGG_16_net._layer_names:\n",
    "    if layer_name in [layer.name for layer in VGG_16_net_param.layer]:\n",
    "        print layer_name, \"found\"\n",
    "        pass\n",
    "    else:\n",
    "        print layer_name, \"not found\"  \n",
    "        if layer_name in VGG_16_net.params:\n",
    "            print layer_name, \"should have data!!!\""
   ]
  },
  {
   "cell_type": "code",
   "execution_count": null,
   "metadata": {},
   "outputs": [],
   "source": []
  }
 ],
 "metadata": {
  "kernelspec": {
   "display_name": "Python 2",
   "language": "python",
   "name": "python2"
  },
  "language_info": {
   "codemirror_mode": {
    "name": "ipython",
    "version": 2
   },
   "file_extension": ".py",
   "mimetype": "text/x-python",
   "name": "python",
   "nbconvert_exporter": "python",
   "pygments_lexer": "ipython2"
  }
 },
 "nbformat": 4,
 "nbformat_minor": 2
}

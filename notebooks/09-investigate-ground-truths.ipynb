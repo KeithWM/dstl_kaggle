{
 "cells": [
  {
   "cell_type": "markdown",
   "metadata": {},
   "source": [
    "This notebook plots ground truth bounding boxes imported via the network architecture, at least using the custom Python data handling layers."
   ]
  },
  {
   "cell_type": "code",
   "execution_count": null,
   "metadata": {},
   "outputs": [],
   "source": [
    "import os\n",
    "import sys\n",
    "import pprint\n",
    "\n",
    "import numpy as np\n",
    "import matplotlib\n",
    "matplotlib.use('Agg')\n",
    "%matplotlib inline\n",
    "from matplotlib import pyplot as plt\n",
    "import time"
   ]
  },
  {
   "cell_type": "code",
   "execution_count": null,
   "metadata": {},
   "outputs": [],
   "source": [
    "def add_path(path):\n",
    "    if path not in sys.path:\n",
    "        sys.path.insert(0, path)\n",
    "        \n",
    "add_path('/home/ubuntu/src/py-faster-rcnn-windowed_input/caffe-fast-rcnn/python')\n",
    "add_path('/home/ubuntu/src/py-faster-rcnn-windowed_input/lib')\n",
    "import caffe\n",
    "from datasets.factory import get_imdb, list_imdbs\n",
    "from fast_rcnn.test import test_net, plot_all_bboxes\n",
    "from fast_rcnn.train import get_training_roidb, train_net, SolverWrapper\n",
    "from fast_rcnn.config import cfg, cfg_from_file, cfg_from_list, get_output_dir\n",
    "import roi_data_layer.minibatch as minibatch\n",
    "print \"Loaded caffe version {:s} from {:s}.\".format(caffe.__version__, caffe.__path__[0])"
   ]
  },
  {
   "cell_type": "code",
   "execution_count": null,
   "metadata": {},
   "outputs": [],
   "source": [
    "class_names = {0: 'buildings', \n",
    "               1: 'misc. manmade structures',\n",
    "               2: 'road',\n",
    "               3: 'track',\n",
    "               4: 'trees',\n",
    "               5: 'crops',\n",
    "               6: 'waterway',\n",
    "               7: 'standing water',\n",
    "               8: 'vehicle large',\n",
    "               9: 'vehicle small'}\n",
    "def get_color(class_name):\n",
    "    import colorsys\n",
    "    h = (hash(class_name) % np.pi) / np.pi\n",
    "    # v = (hash(class_name) % 10)/20. + .5\n",
    "    N_v = 3\n",
    "    v = .5/(N_v-1)*np.floor((hash(class_name) % (N_v*np.pi))/np.pi) + .5\n",
    "    return colorsys.hsv_to_rgb(h, .8, v)"
   ]
  },
  {
   "cell_type": "code",
   "execution_count": null,
   "metadata": {},
   "outputs": [],
   "source": [
    "# configure plotting\n",
    "plt.rcParams['image.interpolation'] = 'nearest'\n",
    "plt.rcParams['image.cmap'] = 'gray'\n",
    "plt.rcParams['figure.figsize'] = (15, 15)\n",
    "\n",
    "caffe.set_mode_gpu()"
   ]
  },
  {
   "cell_type": "code",
   "execution_count": null,
   "metadata": {},
   "outputs": [],
   "source": [
    "N_classes = len(class_names) + 1\n",
    "classes = (0, 1, 4, 7, 8, 9)\n",
    "arch = 'VGG16'\n",
    "appendix = '' # This will codify which classes to train (if not all, in which case this string should be empty)\n",
    "infix = '.' # for directories\n",
    "if classes is not None:\n",
    "    appendix = '_'+''.join(['{:d}'.format(c) for c in classes])\n",
    "    infix = '{:d}'.format(len(classes))+'_classes'\n",
    "    N_classes = len(classes) + 1\n",
    "\n",
    "print infix, appendix"
   ]
  },
  {
   "cell_type": "code",
   "execution_count": null,
   "metadata": {},
   "outputs": [],
   "source": [
    "this_dir = os.getcwd()\n",
    "model_dir = os.path.join(this_dir, '..', 'models', arch, infix)\n",
    "solver_file = os.path.join(model_dir, 'solver.prototxt')"
   ]
  },
  {
   "cell_type": "code",
   "execution_count": null,
   "metadata": {},
   "outputs": [],
   "source": [
    "def combined_roidb(imdb_names):\n",
    "    def get_roidb(imdb_name):\n",
    "        print imdb_name\n",
    "        imdb = get_imdb(imdb_name)\n",
    "        print 'Loaded dataset `{:s}` for training'.format(imdb.name)\n",
    "        imdb.set_proposal_method(cfg.TRAIN.PROPOSAL_METHOD)\n",
    "        print 'Set proposal method: {:s}'.format(cfg.TRAIN.PROPOSAL_METHOD)\n",
    "        roidb = get_training_roidb(imdb)\n",
    "        return roidb\n",
    "\n",
    "    roidbs = [get_roidb(s) for s in imdb_names.split('+')]\n",
    "    roidb = roidbs[0]\n",
    "    if len(roidbs) > 1:\n",
    "        for r in roidbs[1:]:\n",
    "            roidb.extend(r)\n",
    "        imdb = datasets.imdb.imdb(imdb_names)\n",
    "    else:\n",
    "        imdb = get_imdb(imdb_names)\n",
    "    return imdb, roidb"
   ]
  },
  {
   "cell_type": "code",
   "execution_count": null,
   "metadata": {},
   "outputs": [],
   "source": [
    "cfg_from_file('../experiments/cfgs/faster_rcnn_end2end_dstl.yml')\n",
    "# cfg.PIXEL_MEANS = np.array([[[102.34775165, 93.19367343, 84.36433397]]])\n",
    "np.random.seed(cfg.RNG_SEED)\n",
    "caffe.set_random_seed(cfg.RNG_SEED)\n",
    "imdb_train, roidb_train = combined_roidb('dstl'+appendix+'_train')\n",
    "imdb_val, roidb_val = combined_roidb('dstl'+appendix+'_val')"
   ]
  },
  {
   "cell_type": "code",
   "execution_count": null,
   "metadata": {},
   "outputs": [],
   "source": [
    "def draw_bboxes(blobs):\n",
    "    \n",
    "    gt_boxes, data, im_info = blobs.values()\n",
    "    N_boxes = gt_boxes.shape[0]\n",
    "    print N_boxes\n",
    "    \n",
    "    if N_boxes > 0:        \n",
    "        fig, ax = plt.subplots(1, 1)\n",
    "        im = (data[0, ...].transpose((1, 2, 0)) + cfg.PIXEL_MEANS).astype(np.uint8)\n",
    "        plt.imshow(im)\n",
    "        for gt_box in gt_boxes:\n",
    "            if classes is None:\n",
    "                class_name = class_names[int(gt_box[-1]) - 1]\n",
    "            else:\n",
    "                class_name = class_names[classes[int(gt_box[-1]) - 1]]\n",
    "            ax.add_patch(\n",
    "                plt.Rectangle((gt_box[0], gt_box[1]),\n",
    "                      gt_box[2] - gt_box[0],\n",
    "                      gt_box[3] - gt_box[1], fill=False,\n",
    "                      edgecolor=get_color(class_name), linewidth=3)\n",
    "            )\n",
    "            ax.text(gt_box[0], gt_box[1], '{}'.format(class_name), color=get_color(class_name), fontsize=18, verticalalignment='bottom')\n",
    "        plt.show()\n",
    "        time.sleep(2.)\n",
    "        "
   ]
  },
  {
   "cell_type": "markdown",
   "metadata": {},
   "source": [
    "Retrieve the 'blobs' from the input-data layer"
   ]
  },
  {
   "cell_type": "code",
   "execution_count": null,
   "metadata": {},
   "outputs": [],
   "source": [
    "for roidb_entry in roidb_val:\n",
    "    print roidb_entry['image']\n",
    "    # fetch multple batches/tiles per image,\n",
    "    for i in range(2):\n",
    "        blobs = minibatch.get_minibatch([roidb_entry], N_classes)\n",
    "        draw_bboxes(blobs)"
   ]
  },
  {
   "cell_type": "code",
   "execution_count": null,
   "metadata": {},
   "outputs": [],
   "source": [
    "blobs.keys()\n",
    "print blobs['data'].shape\n",
    "print blobs['gt_boxes'].shape\n",
    "print blobs['gt_boxes'].min(axis=0)\n",
    "print blobs['gt_boxes'].max(axis=0)\n",
    "print blobs['im_info']"
   ]
  },
  {
   "cell_type": "code",
   "execution_count": null,
   "metadata": {},
   "outputs": [],
   "source": []
  },
  {
   "cell_type": "code",
   "execution_count": null,
   "metadata": {},
   "outputs": [],
   "source": [
    "cfg.TRAIN.SCALES"
   ]
  },
  {
   "cell_type": "markdown",
   "metadata": {},
   "source": [
    "## "
   ]
  }
 ],
 "metadata": {
  "kernelspec": {
   "display_name": "Python 2",
   "language": "python",
   "name": "python2"
  },
  "language_info": {
   "codemirror_mode": {
    "name": "ipython",
    "version": 2
   },
   "file_extension": ".py",
   "mimetype": "text/x-python",
   "name": "python",
   "nbconvert_exporter": "python",
   "pygments_lexer": "ipython2"
  }
 },
 "nbformat": 4,
 "nbformat_minor": 2
}

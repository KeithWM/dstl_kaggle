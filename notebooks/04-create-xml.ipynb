{
 "cells": [
  {
   "cell_type": "markdown",
   "metadata": {},
   "source": [
    "This notebook generates XML files for each image in the dataset that contain a list of objects"
   ]
  },
  {
   "cell_type": "code",
   "execution_count": null,
   "metadata": {},
   "outputs": [],
   "source": [
    "import os\n",
    "import dicttoxml\n",
    "from xml.dom.minidom import parseString\n",
    "from collections import OrderedDict\n",
    "import numpy as np\n",
    "\n",
    "import helper # this module contains some function that are used by a few of the notebooks on this matter\n",
    "\n",
    "N_CLASSES = 10\n",
    "BAND = 'RGB' # which band to use\n",
    "MASK_SIZES = {'A': 128, 'M': 800, 'P': 3*1024, 'RGB': 1024} # size of the Mask ARRAY to use\n",
    "DEPTHS = {'A': 8, 'M': 8, 'P': 1, 'RGB': 3}\n",
    "data_dir = '/data/dstl'\n",
    "if BAND == 'RGB':\n",
    "    dir_name = os.path.join(data_dir, 'three_band')\n",
    "else:\n",
    "    dir_name =  os.path.join(data_dir, 'sixteen_band')\n",
    "MIN_BBOX_AREA = 10 # we need to avoid zero width or zero heigth bboxes, but also small bboxes are likely underisable\n",
    "class_names = {0: 'buildings', \n",
    "               1: 'misc. manmade structures',\n",
    "               2: 'road',\n",
    "               3: 'track',\n",
    "               4: 'trees',\n",
    "               5: 'crops',\n",
    "               6: 'waterway',\n",
    "               7: 'standing water',\n",
    "               8: 'vehicle large',\n",
    "               9: 'vehicle small'}"
   ]
  },
  {
   "cell_type": "code",
   "execution_count": null,
   "metadata": {},
   "outputs": [],
   "source": [
    "get = np.load(os.path.join(data_dir, 'bboxes_{}.npz'.format(BAND)))\n",
    "in_bboxes = get['bboxes'][()]\n",
    "im_sizes = get['im_sizes'][()]"
   ]
  },
  {
   "cell_type": "markdown",
   "metadata": {},
   "source": [
    "Before looping over all image ids, we will define the functions needed to be performed for each image and run them on an arbitrary `im_id` defined below. "
   ]
  },
  {
   "cell_type": "code",
   "execution_count": null,
   "metadata": {},
   "outputs": [],
   "source": [
    "im_id = '6010_1_2' # an arbitrary image that contains at least a few bboxes"
   ]
  },
  {
   "cell_type": "markdown",
   "metadata": {},
   "source": [
    "The cell below defines a function that contains two xml snippets, one for the image information (`xml_header`) and one for the objects in this image (`xml_objects`). This split is convenient because `xml_header` is based on a _named dict_, whereas `xml_objects` is based on an (unnnamed) _list_."
   ]
  },
  {
   "cell_type": "code",
   "execution_count": null,
   "metadata": {},
   "outputs": [],
   "source": [
    "item_name_func = lambda parent: 'object'\n",
    "\n",
    "def create_xml_snippets(im_id):\n",
    "    out_dict = OrderedDict()\n",
    "    out_dict['folder'] = dir_name.split('/')[-1]\n",
    "    out_dict['filename'] = im_id+'.tiff'\n",
    "    out_dict['source'] = {'database': 'dstl Kaggle case', 'annotations': 'dstl Kaggle case'}\n",
    "    out_dict['owner'] = 'dstl'\n",
    "    out_dict['source'] = {'width': im_sizes[im_id][1], 'height': im_sizes[im_id][0], 'depth': DEPTHS[BAND]}\n",
    "    out_dict['segmented'] = 0\n",
    "    \n",
    "    xml_header = dicttoxml.dicttoxml(out_dict, attr_type=False, root=False)\n",
    "    \n",
    "    object_list = []\n",
    "    # add objects (if any!)\n",
    "    if im_id in in_bboxes:\n",
    "        for c in range(N_CLASSES):\n",
    "            for bbox in in_bboxes[im_id][c]:\n",
    "                if bbox['w'] * bbox['h'] > MIN_BBOX_AREA:\n",
    "                    object_dict = OrderedDict()\n",
    "                    object_dict['name'] = class_names[c]\n",
    "                    object_dict['pose'] = ''\n",
    "                    object_dict['truncated'] = 0\n",
    "                    object_dict['difficult'] = 0\n",
    "                    object_dict['bndbox'] = {'xmin': bbox['x0'], 'ymin': bbox['y0'], 'xmax': bbox['x1'], 'ymax': bbox['y1']}\n",
    "                    object_list.append(object_dict)\n",
    "    \n",
    "    xml_objects = dicttoxml.dicttoxml(object_list, item_func=item_name_func, attr_type=False, root=False)\n",
    "    return xml_header, xml_objects\n",
    "    \n",
    "xml_header, xml_objects = create_xml_snippets(im_id)\n"
   ]
  },
  {
   "cell_type": "code",
   "execution_count": null,
   "metadata": {},
   "outputs": [],
   "source": [
    "c = 1 # class for which im_id contains at least one object\n",
    "print in_bboxes[im_id][c][:3] # the first bbox of class c in in image im_id"
   ]
  },
  {
   "cell_type": "code",
   "execution_count": null,
   "metadata": {},
   "outputs": [],
   "source": [
    "print xml_header\n",
    "print xml_objects"
   ]
  },
  {
   "cell_type": "code",
   "execution_count": null,
   "metadata": {},
   "outputs": [],
   "source": [
    "def concatenate_xml_snippets(xml_header, xml_objects):\n",
    "    return '<annotation>\\n'+xml_header+'\\n'+xml_objects+'\\n</annotation>'\n",
    "xml = concatenate_xml_snippets(xml_header, xml_objects)\n",
    "dom = parseString(xml)\n",
    "print dom.toprettyxml()"
   ]
  },
  {
   "cell_type": "code",
   "execution_count": null,
   "metadata": {},
   "outputs": [],
   "source": [
    "def write_xml(xml, im_id):\n",
    "    with open(os.path.join(dir_name, 'Annotations', im_id+'_RGB.xml'), 'w') as f:\n",
    "        dom = parseString(xml)\n",
    "        f.write(dom.toprettyxml())\n",
    "\n",
    "write_xml(xml, im_id)"
   ]
  },
  {
   "cell_type": "markdown",
   "metadata": {},
   "source": [
    "With each of the functions above defined, now a loop over all the images creates a `.xml` file for each image."
   ]
  },
  {
   "cell_type": "code",
   "execution_count": null,
   "metadata": {},
   "outputs": [],
   "source": [
    "for im_id in helper.image_iterator():\n",
    "    xml_header, xml_objects = create_xml_snippets(im_id)\n",
    "    xml = concatenate_xml_snippets(xml_header, xml_objects)\n",
    "    write_xml(xml, im_id)\n",
    "    "
   ]
  },
  {
   "cell_type": "code",
   "execution_count": null,
   "metadata": {},
   "outputs": [],
   "source": [
    "for im_id, bbox in in_bboxes.items():\n",
    "    print im_id, np.array([len(bbox_per_class) for bbox_per_class in bbox.values()]).sum()"
   ]
  },
  {
   "cell_type": "code",
   "execution_count": null,
   "metadata": {},
   "outputs": [],
   "source": [
    "bbox"
   ]
  },
  {
   "cell_type": "code",
   "execution_count": null,
   "metadata": {},
   "outputs": [],
   "source": []
  }
 ],
 "metadata": {
  "anaconda-cloud": {},
  "kernelspec": {
   "display_name": "Python 2",
   "language": "python",
   "name": "python2"
  },
  "language_info": {
   "codemirror_mode": {
    "name": "ipython",
    "version": 2
   },
   "file_extension": ".py",
   "mimetype": "text/x-python",
   "name": "python",
   "nbconvert_exporter": "python",
   "pygments_lexer": "ipython2"
  }
 },
 "nbformat": 4,
 "nbformat_minor": 1
}

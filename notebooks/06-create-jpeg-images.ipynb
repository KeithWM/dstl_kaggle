{
 "cells": [
  {
   "cell_type": "markdown",
   "metadata": {},
   "source": [
    "# Create JPegImages folder and populate it with .jpg versions of the .tiff files"
   ]
  },
  {
   "cell_type": "code",
   "execution_count": 1,
   "metadata": {
    "collapsed": true
   },
   "outputs": [],
   "source": [
    "import numpy as np\n",
    "from matplotlib import pyplot as plt\n",
    "import tifffile as tiff\n",
    "import os\n",
    "import PIL\n",
    "from PIL import Image"
   ]
  },
  {
   "cell_type": "markdown",
   "metadata": {},
   "source": [
    "The direction `../data` should contain links to `/data/dstl/three_band/` as `dstl` and to `/data/VOCdevkit2007/VOC2007/` as `voc` (but that's not used in this notebook)."
   ]
  },
  {
   "cell_type": "code",
   "execution_count": 12,
   "metadata": {},
   "outputs": [
    {
     "name": "stdout",
     "output_type": "stream",
     "text": [
      "/home/ubuntu/dstl/notebooks/../data/dstl\n"
     ]
    }
   ],
   "source": [
    "data_dir = os.path.join(os.getcwd(), '..', 'data', 'dstl')\n",
    "tiff_loc = os.path.join(data_dir, 'TIFFImages')\n",
    "jpeg_loc = os.path.join(data_dir, 'JPegImages')\n",
    "print data_dir"
   ]
  },
  {
   "cell_type": "code",
   "execution_count": 13,
   "metadata": {
    "collapsed": true
   },
   "outputs": [],
   "source": [
    "def convert(filename):\n",
    "    print filename\n",
    "    im = tiff.imread(os.path.join(tiff_loc, filename + '.tiff'))\n",
    "    im>>= 3 # downsample to 8 bits per pixel\n",
    "    im_rgb = Image.fromarray(im.astype(np.uint8).transpose((1, 2, 0)))\n",
    "    im_rgb.save(os.path.join(jpeg_loc, filename + '.jpg'))"
   ]
  },
  {
   "cell_type": "code",
   "execution_count": 15,
   "metadata": {},
   "outputs": [],
   "source": [
    "for fn in os.listdir(tiff_loc):\n",
    "    if os.path.isfile(os.path.join(tiff_loc, fn)):\n",
    "        filename, file_extension = os.path.splitext(fn)\n",
    "\n",
    "        if file_extension == '.tiff' and not os.path.isfile(os.path.join(jpeg_loc, filename + '.jpg')):\n",
    "            convert(filename)"
   ]
  },
  {
   "cell_type": "code",
   "execution_count": null,
   "metadata": {
    "collapsed": true
   },
   "outputs": [],
   "source": []
  }
 ],
 "metadata": {
  "kernelspec": {
   "display_name": "Python 2",
   "language": "python",
   "name": "python2"
  },
  "language_info": {
   "codemirror_mode": {
    "name": "ipython",
    "version": 2
   },
   "file_extension": ".py",
   "mimetype": "text/x-python",
   "name": "python",
   "nbconvert_exporter": "python",
   "pygments_lexer": "ipython2",
   "version": "2.7.6"
  }
 },
 "nbformat": 4,
 "nbformat_minor": 2
}

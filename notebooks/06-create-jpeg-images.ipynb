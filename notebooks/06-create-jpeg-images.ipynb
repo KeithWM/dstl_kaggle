{
 "cells": [
  {
   "cell_type": "markdown",
   "metadata": {},
   "source": [
    "# Create JPegImages folder and populate it with .jpg versions of the .tiff files"
   ]
  },
  {
   "cell_type": "code",
   "execution_count": null,
   "metadata": {},
   "outputs": [],
   "source": [
    "import numpy as np\n",
    "import matplotlib\n",
    "matplotlib.use('Agg')\n",
    "%matplotlib inline\n",
    "from matplotlib import pyplot as plt\n",
    "import tifffile as tiff\n",
    "import os\n",
    "import itertools\n",
    "import PIL\n",
    "from PIL import Image"
   ]
  },
  {
   "cell_type": "markdown",
   "metadata": {},
   "source": [
    "The direction `../data` should contain links to `/data/dstl/three_band/` as `dstl` and to `/data/VOCdevkit2007/VOC2007/` as `voc` (but that's not used in this notebook)."
   ]
  },
  {
   "cell_type": "code",
   "execution_count": null,
   "metadata": {},
   "outputs": [],
   "source": [
    "data_dir = os.path.join(os.getcwd(), '..', 'data', 'dstl')\n",
    "tiff_loc = os.path.join(data_dir, 'TIFFImages')\n",
    "jpeg_loc = os.path.join(data_dir, 'JPegImages')\n",
    "print data_dir"
   ]
  },
  {
   "cell_type": "code",
   "execution_count": null,
   "metadata": {},
   "outputs": [],
   "source": [
    "def convert(filename):\n",
    "    print filename\n",
    "    im = tiff.imread(os.path.join(tiff_loc, filename + '.tiff'))\n",
    "    im>>= 3 # downsample to 8 bits per pixel\n",
    "    im_rgb = Image.fromarray(im.astype(np.uint8).transpose((1, 2, 0)))\n",
    "    im_rgb.save(os.path.join(jpeg_loc, filename + '.jpg'))"
   ]
  },
  {
   "cell_type": "code",
   "execution_count": null,
   "metadata": {},
   "outputs": [],
   "source": [
    "if False: # this approach is valid, but for white balancing it is better to do a smarter loop\n",
    "    for fn in os.listdir(tiff_loc):\n",
    "        if os.path.isfile(os.path.join(tiff_loc, fn)):\n",
    "            filename, file_extension = os.path.splitext(fn)\n",
    "\n",
    "            if file_extension == '.tiff' and not os.path.isfile(os.path.join(jpeg_loc, filename + '.jpg')):\n",
    "                convert(filename)"
   ]
  },
  {
   "cell_type": "markdown",
   "metadata": {},
   "source": [
    "The function `find_scalers` returns the minimum and maximum values for each color channel to ensure that "
   ]
  },
  {
   "cell_type": "code",
   "execution_count": null,
   "metadata": {},
   "outputs": [],
   "source": [
    "def find_scalers(hists, plot_histograms=False):\n",
    "    N_pixels = hists.sum()/3 # hists contains a histogram for each channel, ergo /3\n",
    "    c_min = N_pixels/2000 # such that 0.05% of pixels is cropped at either end\n",
    "    c_max = N_pixels-c_min\n",
    "    \n",
    "    x_mins = np.zeros((3,), dtype=int)\n",
    "    x_maxs = np.zeros((3,), dtype=int)\n",
    "    \n",
    "    for color in range(3):\n",
    "        cdf = np.zeros_like(bins)\n",
    "        cdf[1:] = hists[color, :].cumsum()\n",
    "        x_mins[color] = bins[cdf < c_min][-1]\n",
    "        x_maxs[color] = bins[cdf > c_max][0]\n",
    "        \n",
    "        if plot_histograms:\n",
    "            plt.figure()\n",
    "            plt.plot(mids, hists[color, :])\n",
    "            plt.plot((x_mins[color], x_mins[color]), (0, hists[color, :].max()))\n",
    "            plt.plot((x_maxs[color], x_maxs[color]), (0, hists[color, :].max()))\n",
    "\n",
    "            plt.figure()\n",
    "            plt.plot(bins, cdf)\n",
    "            plt.plot((x_mins[color], x_mins[color]), (0, cdf[-1]))\n",
    "            plt.plot((x_maxs[color], x_maxs[color]), (0, cdf[-1]))\n",
    "            \n",
    "    return x_mins, x_maxs\n",
    "    "
   ]
  },
  {
   "cell_type": "code",
   "execution_count": null,
   "metadata": {},
   "outputs": [],
   "source": [
    "def fix_white_balance(im, x_mins, x_maxs, plot_histograms=False):\n",
    "    for channel, x_min, x_max in zip(im, x_mins, x_maxs):\n",
    "        channel_uint32 = np.clip(channel, x_min, x_max-1).astype(np.uint32) # -1 to be able to multiply with 256?\n",
    "        channel_uint32-= x_min\n",
    "        channel_uint32*= 256\n",
    "        channel_uint32/= x_max-x_min\n",
    "        channel[...] = channel_uint32\n",
    "        assert channel.max() < 256 # so that it will fit into uint8 later on\n",
    "        \n",
    "        if plot_histograms:\n",
    "            bins = np.arange(2**8, dtype=int) # 8 bit images\n",
    "            mids = .5*(bins[:-1] + bins[1:])\n",
    "            hist = np.histogram(channel, bins=bins)[0]\n",
    "            \n",
    "            plt.figure()\n",
    "            plt.plot(mids, hist)\n",
    "        \n",
    "        \n",
    "        "
   ]
  },
  {
   "cell_type": "code",
   "execution_count": null,
   "metadata": {},
   "outputs": [],
   "source": [
    "bins = np.arange(2**11, dtype=int) # 11 bit images\n",
    "mids = .5*(bins[:-1] + bins[1:])\n",
    "\n",
    "cum_mean = np.zeros((3,), dtype=float)\n",
    "\n",
    "for collage_iter, collage_id in enumerate(range(6010, 6181, 10)[1:]):\n",
    "    # each image is part of a 'collage' of 5x5=25 images, we do the white balance for the whole collage\n",
    "    ims = []\n",
    "    filenames = []\n",
    "    hists = np.zeros((3, len(mids)))\n",
    "    print \"Working on collage {:d}\".format(collage_iter)\n",
    "    for i, j in itertools.product(range(5), range(5)):\n",
    "        print \"pair ({:d}, {:d})\".format(i, j),\n",
    "        filename = '{:d}_{:d}_{:d}_RGB'.format(collage_id, i, j)\n",
    "        filenames.append(filename)\n",
    "        \n",
    "        im = tiff.imread(os.path.join(tiff_loc, filename + '.tiff'))\n",
    "        ims.append(im)\n",
    "        \n",
    "        for color in range(3):\n",
    "            hists[color, :]+= np.histogram(im[color, :, :], bins=bins)[0]\n",
    "        \n",
    "    x_mins, x_maxs = find_scalers(hists, plot_histograms=False)\n",
    "    print \"\\n Found scalers for collage\"\n",
    "    \n",
    "    for im, filename in zip(ims, filenames):\n",
    "        fix_white_balance(im, x_mins, x_maxs, plot_histograms=False)\n",
    "        cum_mean+= im.mean(axis=(1,2)) # not over the color axis\n",
    "        im_rgb = Image.fromarray(im.astype(np.uint8).transpose((1, 2, 0)))\n",
    "        im_rgb.save(os.path.join(jpeg_loc, filename + '.jpg'))\n",
    "        print \"Saved file {:s}\".format(filename + '.jpg')\n",
    "    print cum_mean/(25*(collage_iter+1))\n",
    "\n",
    "\n",
    "        \n",
    "    "
   ]
  },
  {
   "cell_type": "code",
   "execution_count": null,
   "metadata": {},
   "outputs": [],
   "source": [
    "print cum_mean/(25*(collage_iter+1))"
   ]
  },
  {
   "cell_type": "code",
   "execution_count": null,
   "metadata": {},
   "outputs": [],
   "source": []
  }
 ],
 "metadata": {
  "kernelspec": {
   "display_name": "Python 2",
   "language": "python",
   "name": "python2"
  },
  "language_info": {
   "codemirror_mode": {
    "name": "ipython",
    "version": 2
   },
   "file_extension": ".py",
   "mimetype": "text/x-python",
   "name": "python",
   "nbconvert_exporter": "python",
   "pygments_lexer": "ipython2"
  }
 },
 "nbformat": 4,
 "nbformat_minor": 2
}

{
 "cells": [
  {
   "cell_type": "code",
   "execution_count": 1,
   "metadata": {
    "collapsed": true
   },
   "outputs": [],
   "source": [
    "import os\n",
    "import sys\n",
    "import pprint\n",
    "\n",
    "import numpy as np\n",
    "import matplotlib\n",
    "matplotlib.use('Agg')\n",
    "%matplotlib inline\n",
    "from matplotlib import pyplot as plt"
   ]
  },
  {
   "cell_type": "code",
   "execution_count": 2,
   "metadata": {},
   "outputs": [
    {
     "name": "stdout",
     "output_type": "stream",
     "text": [
      "Loaded caffe version 1.0.0 from /home/ubuntu/src/py-faster-rcnn/caffe-fast-rcnn/python/caffe.\n"
     ]
    }
   ],
   "source": [
    "def add_path(path):\n",
    "    if path not in sys.path:\n",
    "        sys.path.insert(0, path)\n",
    "        \n",
    "add_path('/home/ubuntu/src/py-faster-rcnn/caffe-fast-rcnn/python')\n",
    "add_path('/home/ubuntu/src/py-faster-rcnn/lib')\n",
    "import caffe\n",
    "from datasets.factory import get_imdb\n",
    "from fast_rcnn.test import test_net\n",
    "from fast_rcnn.train import get_training_roidb, train_net\n",
    "from fast_rcnn.config import cfg, cfg_from_file, cfg_from_list, get_output_dir\n",
    "print \"Loaded caffe version {:s} from {:s}.\".format(caffe.__version__, caffe.__path__[0])"
   ]
  },
  {
   "cell_type": "code",
   "execution_count": 3,
   "metadata": {
    "collapsed": true
   },
   "outputs": [],
   "source": [
    "# configure plotting\n",
    "plt.rcParams['image.interpolation'] = 'nearest'\n",
    "plt.rcParams['image.cmap'] = 'gray'\n",
    "\n",
    "caffe.set_mode_cpu()"
   ]
  },
  {
   "cell_type": "code",
   "execution_count": 4,
   "metadata": {
    "collapsed": true
   },
   "outputs": [],
   "source": [
    "this_dir = os.getcwd()\n",
    "data_dir = os.path.join(this_dir, '..', 'data', 'voc')\n",
    "model_dir = os.path.join(this_dir, '..', 'models', 'ZF')"
   ]
  },
  {
   "cell_type": "code",
   "execution_count": 5,
   "metadata": {
    "collapsed": true
   },
   "outputs": [],
   "source": [
    "def combined_roidb(imdb_names):\n",
    "    def get_roidb(imdb_name):\n",
    "        imdb = get_imdb(imdb_name)\n",
    "        print 'Loaded dataset `{:s}` for training'.format(imdb.name)\n",
    "        imdb.set_proposal_method(cfg.TRAIN.PROPOSAL_METHOD)\n",
    "        print 'Set proposal method: {:s}'.format(cfg.TRAIN.PROPOSAL_METHOD)\n",
    "        roidb = get_training_roidb(imdb)\n",
    "        return roidb\n",
    "\n",
    "    roidbs = [get_roidb(s) for s in imdb_names.split('+')]\n",
    "    roidb = roidbs[0]\n",
    "    if len(roidbs) > 1:\n",
    "        for r in roidbs[1:]:\n",
    "            roidb.extend(r)\n",
    "        imdb = datasets.imdb.imdb(imdb_names)\n",
    "    else:\n",
    "        imdb = get_imdb(imdb_names)\n",
    "    return imdb, roidb"
   ]
  },
  {
   "cell_type": "code",
   "execution_count": 6,
   "metadata": {
    "collapsed": true
   },
   "outputs": [],
   "source": [
    "net_file = os.path.join(model_dir, 'network.prototxt')\n",
    "solver_file = os.path.join(model_dir, 'solver.prototxt')"
   ]
  },
  {
   "cell_type": "code",
   "execution_count": null,
   "metadata": {},
   "outputs": [
    {
     "name": "stdout",
     "output_type": "stream",
     "text": [
      "Using config:\n",
      "{'DATA_DIR': '/data',\n",
      " 'DEDUP_BOXES': 0.0625,\n",
      " 'EPS': 1e-14,\n",
      " 'EXP_DIR': 'faster_rcnn_end2end',\n",
      " 'GPU_ID': 0,\n",
      " 'MATLAB': 'matlab',\n",
      " 'MODELS_DIR': '/home/ubuntu/src/py-faster-rcnn/models/pascal_voc',\n",
      " 'PIXEL_MEANS': array([[[ 102.9801,  115.9465,  122.7717]]]),\n",
      " 'RNG_SEED': 3,\n",
      " 'ROOT_DIR': '/home/ubuntu/src/py-faster-rcnn',\n",
      " 'TEST': {'BBOX_REG': True,\n",
      "          'HAS_RPN': True,\n",
      "          'MAX_SIZE': 1000,\n",
      "          'NMS': 0.3,\n",
      "          'PROPOSAL_METHOD': 'selective_search',\n",
      "          'RPN_MIN_SIZE': 16,\n",
      "          'RPN_NMS_THRESH': 0.7,\n",
      "          'RPN_POST_NMS_TOP_N': 300,\n",
      "          'RPN_PRE_NMS_TOP_N': 6000,\n",
      "          'SCALES': [600],\n",
      "          'SVM': False},\n",
      " 'TRAIN': {'ASPECT_GROUPING': True,\n",
      "           'BATCH_SIZE': 128,\n",
      "           'BBOX_INSIDE_WEIGHTS': [1.0, 1.0, 1.0, 1.0],\n",
      "           'BBOX_NORMALIZE_MEANS': [0.0, 0.0, 0.0, 0.0],\n",
      "           'BBOX_NORMALIZE_STDS': [0.1, 0.1, 0.2, 0.2],\n",
      "           'BBOX_NORMALIZE_TARGETS': True,\n",
      "           'BBOX_NORMALIZE_TARGETS_PRECOMPUTED': True,\n",
      "           'BBOX_REG': True,\n",
      "           'BBOX_THRESH': 0.5,\n",
      "           'BG_THRESH_HI': 0.5,\n",
      "           'BG_THRESH_LO': 0.0,\n",
      "           'FG_FRACTION': 0.25,\n",
      "           'FG_THRESH': 0.5,\n",
      "           'HAS_RPN': True,\n",
      "           'IMS_PER_BATCH': 1,\n",
      "           'MAX_SIZE': 1000,\n",
      "           'PROPOSAL_METHOD': 'gt',\n",
      "           'RPN_BATCHSIZE': 256,\n",
      "           'RPN_BBOX_INSIDE_WEIGHTS': [1.0, 1.0, 1.0, 1.0],\n",
      "           'RPN_CLOBBER_POSITIVES': False,\n",
      "           'RPN_FG_FRACTION': 0.5,\n",
      "           'RPN_MIN_SIZE': 16,\n",
      "           'RPN_NEGATIVE_OVERLAP': 0.3,\n",
      "           'RPN_NMS_THRESH': 0.7,\n",
      "           'RPN_POSITIVE_OVERLAP': 0.7,\n",
      "           'RPN_POSITIVE_WEIGHT': -1.0,\n",
      "           'RPN_POST_NMS_TOP_N': 2000,\n",
      "           'RPN_PRE_NMS_TOP_N': 12000,\n",
      "           'SCALES': [600],\n",
      "           'SNAPSHOT_INFIX': '',\n",
      "           'SNAPSHOT_ITERS': 100,\n",
      "           'USE_FLIPPED': True,\n",
      "           'USE_PREFETCH': False},\n",
      " 'USE_GPU_NMS': True}\n",
      "Loaded dataset `voc_2007_train` for training\n",
      "Set proposal method: gt\n",
      "Appending horizontally-flipped training examples...\n",
      "voc_2007_train gt roidb loaded from /data/cache/voc_2007_train_gt_roidb.pkl\n",
      "done\n",
      "Preparing training data...\n",
      "done\n",
      "/home/ubuntu/src/py-faster-rcnn/output/faster_rcnn_end2end/voc_2007_train\n"
     ]
    }
   ],
   "source": [
    "cfg_from_file('../experiments/cfgs/faster_rcnn_end2end.yml')\n",
    "print('Using config:')\n",
    "pprint.pprint(cfg)\n",
    "np.random.seed(cfg.RNG_SEED)\n",
    "caffe.set_random_seed(cfg.RNG_SEED)\n",
    "imdb, roidb = combined_roidb('voc_2007_train')\n",
    "output_dir = get_output_dir(imdb)\n",
    "print output_dir"
   ]
  },
  {
   "cell_type": "code",
   "execution_count": null,
   "metadata": {},
   "outputs": [
    {
     "name": "stdout",
     "output_type": "stream",
     "text": [
      "Filtered 0 roidb entries: 5002 -> 5002\n",
      "Computing bounding-box regression targets...\n",
      "bbox target means:\n",
      "[[ 0.  0.  0.  0.]\n",
      " [ 0.  0.  0.  0.]\n",
      " [ 0.  0.  0.  0.]\n",
      " [ 0.  0.  0.  0.]\n",
      " [ 0.  0.  0.  0.]\n",
      " [ 0.  0.  0.  0.]\n",
      " [ 0.  0.  0.  0.]\n",
      " [ 0.  0.  0.  0.]\n",
      " [ 0.  0.  0.  0.]\n",
      " [ 0.  0.  0.  0.]\n",
      " [ 0.  0.  0.  0.]\n",
      " [ 0.  0.  0.  0.]\n",
      " [ 0.  0.  0.  0.]\n",
      " [ 0.  0.  0.  0.]\n",
      " [ 0.  0.  0.  0.]\n",
      " [ 0.  0.  0.  0.]\n",
      " [ 0.  0.  0.  0.]\n",
      " [ 0.  0.  0.  0.]\n",
      " [ 0.  0.  0.  0.]\n",
      " [ 0.  0.  0.  0.]\n",
      " [ 0.  0.  0.  0.]]\n",
      "[ 0.  0.  0.  0.]\n",
      "bbox target stdevs:\n",
      "[[ 0.1  0.1  0.2  0.2]\n",
      " [ 0.1  0.1  0.2  0.2]\n",
      " [ 0.1  0.1  0.2  0.2]\n",
      " [ 0.1  0.1  0.2  0.2]\n",
      " [ 0.1  0.1  0.2  0.2]\n",
      " [ 0.1  0.1  0.2  0.2]\n",
      " [ 0.1  0.1  0.2  0.2]\n",
      " [ 0.1  0.1  0.2  0.2]\n",
      " [ 0.1  0.1  0.2  0.2]\n",
      " [ 0.1  0.1  0.2  0.2]\n",
      " [ 0.1  0.1  0.2  0.2]\n",
      " [ 0.1  0.1  0.2  0.2]\n",
      " [ 0.1  0.1  0.2  0.2]\n",
      " [ 0.1  0.1  0.2  0.2]\n",
      " [ 0.1  0.1  0.2  0.2]\n",
      " [ 0.1  0.1  0.2  0.2]\n",
      " [ 0.1  0.1  0.2  0.2]\n",
      " [ 0.1  0.1  0.2  0.2]\n",
      " [ 0.1  0.1  0.2  0.2]\n",
      " [ 0.1  0.1  0.2  0.2]\n",
      " [ 0.1  0.1  0.2  0.2]]\n",
      "[ 0.1  0.1  0.2  0.2]\n",
      "Normalizing targets\n",
      "done\n",
      "RoiDataLayer: name_to_top: {'gt_boxes': 2, 'data': 0, 'im_info': 1}\n",
      "Loading pretrained model weights from /home/ubuntu/src/py-faster-rcnn/data/imagenet_models/ZF.v2.caffemodel\n",
      "Solving...\n"
     ]
    }
   ],
   "source": [
    "pretrained_caffemodel = '/home/ubuntu/src/py-faster-rcnn/data/imagenet_models/ZF.v2.caffemodel'\n",
    "train_net(solver_file, roidb, output_dir,                                                                                        \n",
    "          pretrained_model=pretrained_caffemodel,                                                                                \n",
    "          max_iters=100)     "
   ]
  },
  {
   "cell_type": "code",
   "execution_count": null,
   "metadata": {
    "collapsed": true
   },
   "outputs": [],
   "source": []
  }
 ],
 "metadata": {
  "kernelspec": {
   "display_name": "Python 2",
   "language": "python",
   "name": "python2"
  },
  "language_info": {
   "codemirror_mode": {
    "name": "ipython",
    "version": 2
   },
   "file_extension": ".py",
   "mimetype": "text/x-python",
   "name": "python",
   "nbconvert_exporter": "python",
   "pygments_lexer": "ipython2",
   "version": "2.7.6"
  }
 },
 "nbformat": 4,
 "nbformat_minor": 2
}

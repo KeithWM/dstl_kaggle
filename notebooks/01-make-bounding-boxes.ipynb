{
 "cells": [
  {
   "cell_type": "markdown",
   "metadata": {},
   "source": [
    "This notebook generates bounding boxes for each of the classes. The class information is provided in polygon form in `train_wkt_v4.csv` and is scaled according to the image sizes `60##_#_#_{}.tiff` and grid sizes in `grid_sizes.csv`.  It produces both a `.npz` containing a dict of dict of bboxes for each image. It will then also write these to an appropriate form for the DL algorithm of our choice, currently Faster R-CNN. The XML format is copied from there. Also produces `.txt` files indicating which images belong to which dataset (train, val, test).\n",
    "\n",
    "If you intend to reproduce this, you might want to attach 'my' external volume to your AWS session."
   ]
  },
  {
   "cell_type": "code",
   "execution_count": null,
   "metadata": {},
   "outputs": [],
   "source": []
  },
  {
   "cell_type": "markdown",
   "metadata": {},
   "source": [
    "First import the necessary modules and set the global variables N_CLASSES, BAND and MASK_SIZES."
   ]
  },
  {
   "cell_type": "code",
   "execution_count": null,
   "metadata": {},
   "outputs": [],
   "source": [
    "import csv\n",
    "import sys\n",
    "import cv2\n",
    "from shapely.geometry import MultiPolygon, Polygon\n",
    "import shapely.wkt\n",
    "import shapely.affinity\n",
    "import numpy as np\n",
    "import tifffile as tiff\n",
    "%matplotlib inline\n",
    "from matplotlib import pyplot as plt\n",
    "plt.rcParams['figure.figsize'] = (10, 10)\n",
    "import itertools\n",
    "csv.field_size_limit(sys.maxsize)\n",
    "import h5py\n",
    "import os\n",
    "\n",
    "import helper # this module contains some function that are used by a few of the notebooks on this matter\n",
    "\n",
    "N_VAL = 5\n",
    "N_CLASSES = 10\n",
    "BAND = 'RGB' # which band to use\n",
    "MASK_SIZES = {'A': 128, 'M': 800, 'P': 3*1024, 'RGB': 1024} # size of the Mask ARRAY to use\n",
    "DEPTHS = {'A': 8, 'M': 8, 'P': 1, 'RGB': 3}\n",
    "data_dir = '/data/dstl'\n",
    "if BAND == 'RGB':\n",
    "    dir_name = os.path.join(data_dir, 'three_band')\n",
    "else:\n",
    "    dir_name =  os.path.join(data_dir, 'sixteen_band')\n",
    "class_names = {0: 'buildings', \n",
    "               1: 'misc. manmade structures',\n",
    "               2: 'road',\n",
    "               3: 'track',\n",
    "               4: 'trees',\n",
    "               5: 'crops',\n",
    "               6: 'waterway',\n",
    "               7: 'standing water',\n",
    "               8: 'vehicle large',\n",
    "               9: 'vehicle small'}"
   ]
  },
  {
   "cell_type": "markdown",
   "metadata": {},
   "source": [
    "Now define and run a function that fetches the size of each image and the scaler (x and y dir) required for scaling the polygons to the correct shape."
   ]
  },
  {
   "cell_type": "code",
   "execution_count": null,
   "metadata": {},
   "outputs": [],
   "source": [
    "def create_sizes_and_scalers():\n",
    "    im_sizes = {}\n",
    "    scalers = {}\n",
    "    \n",
    "    for im_id in helper.image_iterator():\n",
    "        masks_per_im = []\n",
    "        im = tiff.imread(os.path.join(dir_name, 'TIFFImages', '{}_{}.tiff'.format(im_id, BAND)))\n",
    "        im_size = im.shape[-2::] # last two, regardless of whether there are three dims or not\n",
    "        im_sizes[im_id] = im_size\n",
    "\n",
    "    with open(os.path.join(data_dir, 'grid_sizes.csv')) as inf:\n",
    "        reader = csv.reader(inf)\n",
    "        next(reader)\n",
    "        for im_id, x, y in reader:\n",
    "            print im_id\n",
    "            scaler = np.array(im_sizes[im_id])\n",
    "            scaler = scaler * scaler.astype(float) / (scaler + 1)\n",
    "            scalers[im_id] = (scaler[1]/float(x), scaler[0]/float(y))\n",
    "    return im_sizes, scalers\n",
    "\n",
    "im_sizes, scalers = create_sizes_and_scalers()"
   ]
  },
  {
   "cell_type": "markdown",
   "metadata": {},
   "source": [
    "Fill the masks with binary pixels indicating whether the pixel is in a certain class or not. We only create a dict entry for images that contain any class data. "
   ]
  },
  {
   "cell_type": "code",
   "execution_count": null,
   "metadata": {},
   "outputs": [],
   "source": [
    "def create_bboxes(im_sizes, scalers):\n",
    "    bboxes = {}\n",
    "\n",
    "    with open(os.path.join(data_dir, 'train_wkt_v4.csv')) as inf:\n",
    "        train = csv.reader(inf)\n",
    "        next(train) # skip the header row\n",
    "        for row_i, (im_id, poly_type, wktpoly) in enumerate(train):\n",
    "            poly_type = int(poly_type) - 1\n",
    "            int_coords = lambda x: np.array(x).round().astype(np.int32)\n",
    "            polygons = shapely.wkt.loads(wktpoly)\n",
    "            x_scaler, y_scaler = scalers[im_id]\n",
    "            polygons = shapely.affinity.scale(polygons, xfact=x_scaler, yfact=y_scaler, origin=(0, 0, 0))\n",
    "\n",
    "            if polygons:\n",
    "                exteriors = [int_coords(poly.exterior.coords) for poly in polygons]\n",
    "\n",
    "                # create masks for this image if they do not yet exist\n",
    "                if not im_id in bboxes:\n",
    "                    bboxes[im_id] = {}\n",
    "                    for c in range(N_CLASSES):\n",
    "                        bboxes[im_id][c] = []\n",
    "\n",
    "                for exterior in exteriors:\n",
    "                    x0 = exterior[:, 0].min()\n",
    "                    x1 = exterior[:, 0].max()\n",
    "                    y0 = exterior[:, 1].min()\n",
    "                    y1 = exterior[:, 1].max()\n",
    "\n",
    "                    # store bbox in both representations for what is necessary\n",
    "                    bbox = {'x0': x0, 'x1': x1, 'y0': y0, 'y1': y1, \n",
    "                            'x': (x0+x1)/2, 'y': (y0+y1)/2, 'w': (x1-x0), 'h': (y1-y0)}\n",
    "                    bboxes[im_id][poly_type].append(bbox)\n",
    "                print im_id, poly_type, len(bboxes[im_id][poly_type])\n",
    "         \n",
    "                # some output to keep track of the progress\n",
    "    print 'Completed'\n",
    "    return bboxes\n",
    "\n",
    "bboxes = create_bboxes(im_sizes, scalers)"
   ]
  },
  {
   "cell_type": "markdown",
   "metadata": {},
   "source": [
    "Save the result to bboxes_{}.npz"
   ]
  },
  {
   "cell_type": "code",
   "execution_count": null,
   "metadata": {},
   "outputs": [],
   "source": [
    "np.savez(os.path.join(data_dir, 'bboxes_{}.npz'.format(BAND)), bboxes=bboxes, im_sizes=im_sizes)"
   ]
  },
  {
   "cell_type": "markdown",
   "metadata": {},
   "source": [
    "Load the data from the drive (only if not already in memory)"
   ]
  },
  {
   "cell_type": "code",
   "execution_count": null,
   "metadata": {},
   "outputs": [],
   "source": [
    "bboxes = np.load(os.path.join(data_dir, 'bboxes_{}.npz'.format(BAND)))['bboxes'][()]"
   ]
  },
  {
   "cell_type": "markdown",
   "metadata": {},
   "source": [
    "Loop over all images, but tell iterator to only produce ids that have masks.\n",
    "Note that this could also be done via a loop over the masks, but we previously also included empty data, and might wish to so again in the future"
   ]
  },
  {
   "cell_type": "code",
   "execution_count": null,
   "metadata": {},
   "outputs": [],
   "source": [
    "id_val = []\n",
    "id_trn = []\n",
    "id_tst = []\n",
    "for i, im_id in enumerate(helper.image_iterator(bboxes.keys())):\n",
    "    pass\n",
    "N_tot = i\n",
    "N_lbl = len(bboxes)\n",
    "np.random.seed(21)\n",
    "choice = np.sort(np.random.choice(range(N_lbl), N_VAL, replace=False))\n",
    "\n",
    "i = 0\n",
    "for im_id in helper.image_iterator():\n",
    "    if im_id in bboxes:\n",
    "        if i in choice:\n",
    "            id_val.append(im_id)\n",
    "        else:\n",
    "            id_trn.append(im_id)\n",
    "        i = i + 1\n",
    "    else:\n",
    "        id_tst.append(im_id)"
   ]
  },
  {
   "cell_type": "code",
   "execution_count": null,
   "metadata": {},
   "outputs": [],
   "source": [
    "list_dir = os.path.join(dir_name, 'ImageSets', 'Main')\n",
    "with open(os.path.join(list_dir,'train.txt'), 'w') as f_trn, \\\n",
    "     open(os.path.join(list_dir, 'val.txt'), 'w') as f_val, \\\n",
    "     open(os.path.join(list_dir, 'trainval.txt'), 'w') as f_trnval, \\\n",
    "     open(os.path.join(list_dir, 'test.txt'), 'w') as f_tst:\n",
    "    for im_id in id_val:\n",
    "        f_val.write('{:s}_{:s}\\n'.format(im_id, BAND))\n",
    "        f_trnval.write('{:s}_{:s}\\n'.format(im_id, BAND))\n",
    "    for im_id in id_trn:\n",
    "        f_trn.write('{:s}_{:s}\\n'.format(im_id, BAND))\n",
    "        f_trnval.write('{:s}_{:s}\\n'.format(im_id, BAND))\n",
    "    for im_id in id_tst:\n",
    "        f_tst.write('{:s}_{:s}\\n'.format(im_id, BAND))\n",
    "            "
   ]
  },
  {
   "cell_type": "markdown",
   "metadata": {},
   "source": [
    "With all the work done, let us inspect some of the results"
   ]
  },
  {
   "cell_type": "code",
   "execution_count": null,
   "metadata": {},
   "outputs": [],
   "source": [
    "def show(img, interpolation='none', ax=None, **kwargs):\n",
    "    if ax is None:\n",
    "        fig, ax = plt.subplots(1, 1)\n",
    "    ax.imshow(img, interpolation='none', **kwargs)\n",
    "    return ax\n",
    "\n",
    "def draw_rectangle(bbox, ax=None, color=None):\n",
    "    x, y, w, h = bbox['x'], bbox['y'], bbox['w'], bbox['h']\n",
    "    x_v = np.array([-.5,  .5, .5, -.5, -.5])\n",
    "    y_v = np.array([-.5, -.5, .5,  .5, -.5])\n",
    "    if ax is None:\n",
    "        fig, ax = plt.subplots(1, 1)\n",
    "    ax.plot(x + w*x_v, y + h*y_v, '-', color=color)"
   ]
  },
  {
   "cell_type": "code",
   "execution_count": null,
   "metadata": {},
   "outputs": [],
   "source": [
    "i_val = 4\n",
    "im_id = id_val[i_val] # Let's look at the first image in the validation set\n",
    "im = tiff.imread(os.path.join(dir_name, 'TIFFImages', '{}_{}.tiff'.format( im_id, BAND)))\n",
    "# im = im.transpose([1, 2, 0]).astype(float)/(8*255)\n",
    "im = (im.transpose([1, 2, 0])/8).astype(np.uint8)\n",
    "show(im)\n"
   ]
  },
  {
   "cell_type": "code",
   "execution_count": null,
   "metadata": {},
   "outputs": [],
   "source": [
    "def get_color(class_name):\n",
    "    import colorsys\n",
    "    h = (hash(class_name) % np.pi) / np.pi\n",
    "    # v = (hash(class_name) % 10)/20. + .5\n",
    "    N_v = 3\n",
    "    v = .5/(N_v-1)*np.floor((hash(class_name) % (N_v*np.pi))/np.pi) + .5\n",
    "    return colorsys.hsv_to_rgb(h, .8, v)\n"
   ]
  },
  {
   "cell_type": "code",
   "execution_count": null,
   "metadata": {},
   "outputs": [],
   "source": [
    "c = 0# class\n",
    "im_annotate = im.copy()\n",
    "print len(bboxes[im_id][c])\n",
    "ax = show(im_annotate)\n",
    "for i, bbox in enumerate(bboxes[im_id][c]):\n",
    "    draw_rectangle(bbox, ax, get_color(class_names[c]))"
   ]
  },
  {
   "cell_type": "code",
   "execution_count": null,
   "metadata": {},
   "outputs": [],
   "source": [
    "if 'masks' not in globals():\n",
    "    masks = np.load(os.path.join(data_dir, 'masks_{}.npz'.format(BAND)))['masks'][()]"
   ]
  },
  {
   "cell_type": "code",
   "execution_count": null,
   "metadata": {},
   "outputs": [],
   "source": [
    "show(masks[im_id][c], cmap='gray')"
   ]
  },
  {
   "cell_type": "markdown",
   "metadata": {},
   "source": [
    "The loop below shows four images per row, one for each class: the bare image, the image overlaid with bounding boxes, the masks from the `mask` dictionary and the masks from the `y_val` tensor."
   ]
  },
  {
   "cell_type": "code",
   "execution_count": null,
   "metadata": {},
   "outputs": [],
   "source": [
    "fig, axs = plt.subplots(10, 4, sharex=True, sharey=True)\n",
    "fig.set_size_inches(10, 24)\n",
    "\n",
    "im = tiff.imread(os.path.join(dir_name, 'TIFFImages', '{}_{}.tiff'.format(im_id, BAND)))\n",
    "im = (im.transpose([1, 2, 0])/8).astype(np.uint8)\n",
    "\n",
    "X_val, y_val, X_trn, y_trn = helper.get_more_patches(BAND, 1024, repetitions=1, classes=range(10))\n",
    "\n",
    "for c, class_name in enumerate(classes):\n",
    "    im_annotate = im.copy()\n",
    "    show(im, ax=axs[c, 0])\n",
    "    show(im_annotate, cmap='gray', ax=axs[c, 1])\n",
    "    for i, bbox in enumerate(bboxes[im_id][c]):\n",
    "        draw_rectangle(bbox, ax=axs[c, 1], color=get_color(class_name))\n",
    "    show(masks[im_id][c], cmap='gray', ax=axs[c, 2])\n",
    "    show(y_val[i_val, c], cmap='gray', ax=axs[c, 3])"
   ]
  },
  {
   "cell_type": "code",
   "execution_count": null,
   "metadata": {},
   "outputs": [],
   "source": [
    "import time\n",
    "\n",
    "fig, axs = plt.subplots(3, 4)\n",
    "axs = axs.flatten()\n",
    "counts = np.zeros(len(class_names), dtype=int)\n",
    "\n",
    "t_next = time.time()\n",
    "# for im_id, bboxes_per_im in bboxes.items():\n",
    "for im_id in id_val:\n",
    "    bboxes_per_im = bboxes[im_id]\n",
    "    print im_id,\n",
    "    for ax , (c, class_name) in zip(axs, class_names.items()):\n",
    "        for bbox in bboxes_per_im[c]:\n",
    "            draw_rectangle(bbox, ax, get_color(class_names[c]))\n",
    "        counts[c]+= len(bboxes_per_im[c])\n",
    "    t_prev, t_next = t_next, time.time()\n",
    "    print counts.sum(), '\\t', t_next - t_prev"
   ]
  },
  {
   "cell_type": "code",
   "execution_count": null,
   "metadata": {},
   "outputs": [],
   "source": [
    "plt.savefig('all_bboxes.png')"
   ]
  },
  {
   "cell_type": "code",
   "execution_count": null,
   "metadata": {},
   "outputs": [],
   "source": [
    "for count, class_name in zip(counts, class_names.values()):\n",
    "    print \"{:s}: {:d}, average {:d} per image\".format(class_name, count, count/len(bboxes))"
   ]
  },
  {
   "cell_type": "code",
   "execution_count": null,
   "metadata": {},
   "outputs": [],
   "source": [
    "edges = 2**np.arange(0, 24+1)\n",
    "\n",
    "mids = (edges[:-1] + edges[1:])/2\n",
    "N_hist = len(edges)-1\n",
    "hist = np.zeros((len(class_names), N_hist), dtype=int)\n",
    "\n",
    "t_next = time.time()\n",
    "# for im_id, bboxes_per_im in bboxes.items():\n",
    "for im_id in id_trn:\n",
    "    bboxes_per_im = bboxes[im_id]\n",
    "    print im_id,\n",
    "    for (c, class_name) in class_names.items():\n",
    "        for bbox in bboxes_per_im[c]:\n",
    "            area = bbox['w'] * bbox['h']\n",
    "            i = (edges[1:] < area).sum()\n",
    "            if i < N_hist:\n",
    "                hist[c, i]+=1\n",
    "            else:\n",
    "                print \"Found bbox too large ({:d}) for class {:s}\".format(area, class_name)\n",
    "    t_prev, t_next = t_next, time.time()\n",
    "    print hist.sum(), '\\t', t_next - t_prev"
   ]
  },
  {
   "cell_type": "code",
   "execution_count": null,
   "metadata": {},
   "outputs": [],
   "source": [
    "plt.loglog(mids, hist.T, '.-')\n",
    "plt.legend(class_names.values())"
   ]
  },
  {
   "cell_type": "code",
   "execution_count": null,
   "metadata": {},
   "outputs": [],
   "source": [
    "for c, class_name in class_names.items():\n",
    "    min_area = edges[:-1][hist[c, :] > 0][0]\n",
    "#     print \"{:s} has smallest bbox size of ±{:d} = 2**{:d}\".format(class_name, min_area, int(np.log2(min_area)))\n",
    "    max_area = edges[1:][hist[c, :] > 0][-1]\n",
    "#     print \"{:s} has largest bbox size of ±{:d} = 2**{:d}\".format(class_name, max_area, int(np.log2(max_area)))\n",
    "    print \"{:s} has range log2 of {:d}--{:d}\".format(class_name, int(np.log2(min_area)), int(np.log2(max_area)))"
   ]
  },
  {
   "cell_type": "code",
   "execution_count": null,
   "metadata": {},
   "outputs": [],
   "source": [
    "edges"
   ]
  },
  {
   "cell_type": "code",
   "execution_count": null,
   "metadata": {},
   "outputs": [],
   "source": [
    "plt.loglog(mids, hist.sum(axis=1) - hist.T.cumsum(axis=0), '.-')\n",
    "plt.legend(class_names.values())\n",
    "plt.figure()\n",
    "plt.loglog(mids, hist.T.cumsum(axis=0), '.-')\n",
    "plt.legend(class_names.values())"
   ]
  },
  {
   "cell_type": "code",
   "execution_count": null,
   "metadata": {},
   "outputs": [],
   "source": []
  }
 ],
 "metadata": {
  "kernelspec": {
   "display_name": "Python 2",
   "language": "python",
   "name": "python2"
  },
  "language_info": {
   "codemirror_mode": {
    "name": "ipython",
    "version": 2
   },
   "file_extension": ".py",
   "mimetype": "text/x-python",
   "name": "python",
   "nbconvert_exporter": "python",
   "pygments_lexer": "ipython2"
  }
 },
 "nbformat": 4,
 "nbformat_minor": 2
}
